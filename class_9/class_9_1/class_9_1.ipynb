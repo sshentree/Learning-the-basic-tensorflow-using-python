{
 "cells": [
  {
   "cell_type": "code",
   "execution_count": 3,
   "metadata": {},
   "outputs": [],
   "source": [
    "# 验证码生成库\n",
    "from captcha.image import ImageCaptcha\n",
    "import numpy as np\n",
    "from PIL import Image\n",
    "import random\n",
    "import sys"
   ]
  },
  {
   "cell_type": "code",
   "execution_count": 4,
   "metadata": {},
   "outputs": [],
   "source": [
    "number = ['0', '1', '2', '3', '4', '5', '6', '7', '8','9']\n",
    "# alphabet = ['a', 'b','c', 'd', 'e', 'f', 'g', 'h', 'i', 'j', 'k', 'm', 'n', 'o', 'p', 'q', 'r', 's', 't', 'u', 'v', 'w', 'k', 'y', 'z']\n",
    "# ALPHABET = []\n",
    "# # 将小写字符转换为大写字符\n",
    "# for x in alphabet:\n",
    "#     x = x.upper()\n",
    "#     ALPHABET.append(x)"
   ]
  },
  {
   "cell_type": "code",
   "execution_count": 26,
   "metadata": {},
   "outputs": [],
   "source": [
    "def random_captcha_list(char_set, captcha_size=4):\n",
    "    '''\n",
    "    在 char_set 随机选取 captcha_size 个字符，组成一个字符列表\n",
    "    '''\n",
    "    # 验证码列表\n",
    "    captcha_list = []\n",
    "    for i in range(captcha_size):\n",
    "        # 随机选取 captcha_size 个（captcha 默认为 4）\n",
    "        captcha = random.choice(seq=char_set)\n",
    "        # 加入验证码列表\n",
    "        captcha_list.append(captcha)\n",
    "    return captcha_list\n",
    "\n",
    "def gen_captcha_list_and_image(path, char_set):\n",
    "    '''\n",
    "    生成与字符列表对应的验证码图片（.jpg）\n",
    "    '''\n",
    "    image = ImageCaptcha()# 默认 width=160 height=60\n",
    "    # 获取随机产生的字符列表\n",
    "    captcha_list = random_captcha_list(char_set=char_set)\n",
    "    # 产生随机字符串  ['a', 'b'] --> 'ab'\n",
    "    captcha_string = ''.join(captcha_list)\n",
    "    # 生成验证码,图片\n",
    "    captcha = image.generate_image(chars=captcha_string)\n",
    "    # 保存图片\n",
    "    captcha.save(path + captcha_string + '.png')\n",
    "        \n",
    "    # 生成以字符串为验证码，并写入文件\n",
    "    #image.write(chars=captcha_string, output=path + captcha_string + '.png', format='png')\n",
    "    "
   ]
  },
  {
   "cell_type": "code",
   "execution_count": 40,
   "metadata": {},
   "outputs": [
    {
     "name": "stdout",
     "output_type": "stream",
     "text": [
      "          生成完毕         \n"
     ]
    }
   ],
   "source": [
    "import time\n",
    "num = 10000 # 数量少于 10000，因为随机在 char_set 选取的字符，有可能重复\n",
    "if __name__ == '__main__':\n",
    "    for i in range(num):\n",
    "        gen_captcha_list_and_image(path='captcha_image/number_image/', char_set=number)\n",
    "        \n",
    "        # 第一种现实程序进度\n",
    "        ch_list = ['\\\\', '|', '/', '-']\n",
    "        index = i % 4\n",
    "        print('\\r验证码生成中 ' + ch_list[index], end='')\n",
    "        \n",
    "        # 第二种现实程序进度\n",
    "#         print('\\r' + '▇' * i + str(i / 100) + '%', end='')\n",
    "\n",
    "        # 第三种现实程序进度\n",
    "#         sys.stdout.write('\\r>> Create image %d/%d'%(i + 1, num))\n",
    "#         sys.stdout.flush\n",
    "#     sys.stdout.flush\n",
    "\n",
    "    print('\\r          生成完毕         ')"
   ]
  },
  {
   "cell_type": "code",
   "execution_count": null,
   "metadata": {},
   "outputs": [],
   "source": []
  }
 ],
 "metadata": {
  "kernelspec": {
   "display_name": "Python 3",
   "language": "python",
   "name": "python3"
  },
  "language_info": {
   "codemirror_mode": {
    "name": "ipython",
    "version": 3
   },
   "file_extension": ".py",
   "mimetype": "text/x-python",
   "name": "python",
   "nbconvert_exporter": "python",
   "pygments_lexer": "ipython3",
   "version": "3.6.5"
  }
 },
 "nbformat": 4,
 "nbformat_minor": 4
}
