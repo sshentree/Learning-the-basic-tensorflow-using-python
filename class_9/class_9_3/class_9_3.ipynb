{
 "cells": [
  {
   "cell_type": "code",
   "execution_count": 48,
   "metadata": {},
   "outputs": [],
   "source": [
    "import tensorflow as tf\n",
    "import numpy as np"
   ]
  },
  {
   "cell_type": "code",
   "execution_count": 49,
   "metadata": {},
   "outputs": [],
   "source": [
    "# 定义批次大小\n",
    "BATCH_SIZE = 20\n",
    "# 标签 10 种类别\n",
    "CHAR_SET_LEN = 10\n",
    "TFRECORD_PATH = '../class_9_1/captcha_image/tfrecord/train.tfrecords'"
   ]
  },
  {
   "cell_type": "code",
   "execution_count": 50,
   "metadata": {},
   "outputs": [],
   "source": [
    "# 读取 tfrecord 格式文件\n",
    "def read_and_decode(fp=TFRECORD_PATH):\n",
    "    '''\n",
    "    解析 TFrecord 格式文件\n",
    "    param\n",
    "        fp:文件名\n",
    "    '''\n",
    "    # 根据文件名生成一个队列\n",
    "    filename_queue = tf.train.string_input_producer(string_tensor=[fp])\n",
    "    # 返回文件名和文件\n",
    "    _, serialized_example = tf.TFRecordReader().read(queue=filename_queue)\n",
    "    \n",
    "   # 给出构建形状及类型标签\n",
    "    feature_description = {\n",
    "    'image_data': tf.FixedLenFeature(shape=[], dtype=tf.string, default_value=''),\n",
    "    'label0': tf.FixedLenFeature(shape=[], dtype=tf.int64, default_value=0),\n",
    "    'label1': tf.FixedLenFeature(shape=[], dtype=tf.int64, default_value=0),\n",
    "    'label2': tf.FixedLenFeature(shape=[], dtype=tf.int64, default_value=0),\n",
    "    'label3': tf.FixedLenFeature(shape=[], dtype=tf.int64, default_value=0)\n",
    "    }\n",
    "    \n",
    "    # 解析 TFrecord 格式文件\n",
    "    # 获取了文件所有内容\n",
    "    features = tf.parse_single_example(serialized_example, feature_description)\n",
    "    \n",
    "    return features"
   ]
  },
  {
   "cell_type": "code",
   "execution_count": 51,
   "metadata": {},
   "outputs": [],
   "source": [
    "def image_labels_to_tensor(features):\n",
    "    '''\n",
    "    将 TFrecord 格式文件解析出的 features 数据提取，并将标签转换为 one-hot\n",
    "    param\n",
    "        features: TFrecord 构造格式\n",
    "    '''\n",
    "#     # 解析 TFrecord 文件函数\n",
    "#     features = read_and_decode()\n",
    "\n",
    "    # 将 bytes 字符串重新转换为 Tensor\n",
    "    image = tf.decode_raw(bytes=features['image_data'], out_type=tf.uint8)\n",
    "    # tensor \n",
    "    image = tf.reshape(tensor=image, shape=(224, 224, 1))\n",
    "\n",
    "    # image 数据预处理\n",
    "    #\n",
    "    # 将 tensor 数据类型转换为 tf.float32\n",
    "    image = tf.cast(x=image, dtype=tf.float32) / 255.0\n",
    "    # 将 image 数据归一化为 -1 到 1 之间\n",
    "    image = tf.subtract(x=image, y=0.5) # x-y\n",
    "    image = tf.multiply(x=image, y=2.0) # x*y\n",
    "\n",
    "    # 获取标签\n",
    "    label0 = tf.cast(x=features['label0'], dtype=tf.int32)\n",
    "    label1 = tf.cast(x=features['label1'], dtype=tf.int32)\n",
    "    label2 = tf.cast(x=features['label2'], dtype=tf.int32)\n",
    "    label3 = tf.cast(x=features['label3'], dtype=tf.int32)\n",
    "\n",
    "    image_labels = [image, label0, label1, label2, label3]\n",
    "\n",
    "\n",
    "    # 使用 shuffle_batch 可以随机打乱顺序\n",
    "    image_batch, label0_batch, label1_batch, label2_batch, label3_batch = tf.train.shuffle_batch(tensors=image_labels, \n",
    "                                                                                                 batch_size=BATCH_SIZE, \n",
    "                                                                                                 capacity=50000, \n",
    "                                                                                                 min_after_dequeue=10000, \n",
    "                                                                                                 num_threads=1\n",
    "                                                                                                )\n",
    "\n",
    "\n",
    "    # 将 labels 转换为 one-hot\n",
    "    one_hot_label0 = tf.one_hot(indices=label0_batch, depth=CHAR_SET_LEN)\n",
    "    one_hot_label1 = tf.one_hot(indices=label1_batch, depth=CHAR_SET_LEN)\n",
    "    one_hot_label2 = tf.one_hot(indices=label2_batch, depth=CHAR_SET_LEN)\n",
    "    one_hot_label3 = tf.one_hot(indices=label3_batch, depth=CHAR_SET_LEN)\n",
    "\n",
    "\n",
    "    # print(image_batch.shape)\n",
    "    # print(label0_batch.shape)\n",
    "    # print(one_hot_label0.shape)\n",
    "\n",
    "\n",
    "    # (50, 224, 224, 1) \n",
    "    # (50,)\n",
    "    # (50, 10)\n",
    "    \n",
    "    return image_batch, one_hot_label0, one_hot_label1, one_hot_label2, one_hot_label3"
   ]
  },
  {
   "cell_type": "code",
   "execution_count": 52,
   "metadata": {},
   "outputs": [
    {
     "name": "stdout",
     "output_type": "stream",
     "text": [
      "(50, 224, 224, 1)\n",
      "(50,)\n",
      "(50, 10)\n"
     ]
    }
   ],
   "source": [
    "if __name__ == '__main__':\n",
    "    features = read_and_decode() # 参数 fp 有默认值\n",
    "    image_batch, one_hot_label0, one_hot_label1, one_hot_label2, one_hot_label3 = image_labels_to_tensor(features=features)\n",
    "    print(image_batch.shape)\n",
    "    print(label0_batch.shape)\n",
    "    print(one_hot_label0.shape)"
   ]
  },
  {
   "cell_type": "code",
   "execution_count": null,
   "metadata": {},
   "outputs": [],
   "source": []
  }
 ],
 "metadata": {
  "kernelspec": {
   "display_name": "Python 3",
   "language": "python",
   "name": "python3"
  },
  "language_info": {
   "codemirror_mode": {
    "name": "ipython",
    "version": 3
   },
   "file_extension": ".py",
   "mimetype": "text/x-python",
   "name": "python",
   "nbconvert_exporter": "python",
   "pygments_lexer": "ipython3",
   "version": "3.6.5"
  }
 },
 "nbformat": 4,
 "nbformat_minor": 4
}
