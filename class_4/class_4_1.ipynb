{
 "cells": [
  {
   "cell_type": "code",
   "execution_count": 1,
   "metadata": {},
   "outputs": [],
   "source": [
    "import tensorflow as tf\n",
    "import matplotlib.pyplot as plt\n",
    "import numpy as np\n",
    "\n",
    "# 导入 tensorflow。mnist 数据集工具包\n",
    "from tensorflow.examples.tutorials.mnist import input_data"
   ]
  },
  {
   "cell_type": "code",
   "execution_count": 2,
   "metadata": {},
   "outputs": [
    {
     "name": "stdout",
     "output_type": "stream",
     "text": [
      "WARNING:tensorflow:From <ipython-input-2-f4f932c79956>:5: read_data_sets (from tensorflow.contrib.learn.python.learn.datasets.mnist) is deprecated and will be removed in a future version.\n",
      "Instructions for updating:\n",
      "Please use alternatives such as official/mnist/dataset.py from tensorflow/models.\n",
      "WARNING:tensorflow:From h:\\compile\\python\\python36\\lib\\site-packages\\tensorflow\\contrib\\learn\\python\\learn\\datasets\\mnist.py:260: maybe_download (from tensorflow.contrib.learn.python.learn.datasets.base) is deprecated and will be removed in a future version.\n",
      "Instructions for updating:\n",
      "Please write your own downloading logic.\n",
      "WARNING:tensorflow:From h:\\compile\\python\\python36\\lib\\site-packages\\tensorflow\\contrib\\learn\\python\\learn\\datasets\\mnist.py:262: extract_images (from tensorflow.contrib.learn.python.learn.datasets.mnist) is deprecated and will be removed in a future version.\n",
      "Instructions for updating:\n",
      "Please use tf.data to implement this functionality.\n",
      "Extracting MNIST_data\\train-images-idx3-ubyte.gz\n",
      "WARNING:tensorflow:From h:\\compile\\python\\python36\\lib\\site-packages\\tensorflow\\contrib\\learn\\python\\learn\\datasets\\mnist.py:267: extract_labels (from tensorflow.contrib.learn.python.learn.datasets.mnist) is deprecated and will be removed in a future version.\n",
      "Instructions for updating:\n",
      "Please use tf.data to implement this functionality.\n",
      "Extracting MNIST_data\\train-labels-idx1-ubyte.gz\n",
      "WARNING:tensorflow:From h:\\compile\\python\\python36\\lib\\site-packages\\tensorflow\\contrib\\learn\\python\\learn\\datasets\\mnist.py:110: dense_to_one_hot (from tensorflow.contrib.learn.python.learn.datasets.mnist) is deprecated and will be removed in a future version.\n",
      "Instructions for updating:\n",
      "Please use tf.one_hot on tensors.\n",
      "Extracting MNIST_data\\t10k-images-idx3-ubyte.gz\n",
      "Extracting MNIST_data\\t10k-labels-idx1-ubyte.gz\n",
      "WARNING:tensorflow:From h:\\compile\\python\\python36\\lib\\site-packages\\tensorflow\\contrib\\learn\\python\\learn\\datasets\\mnist.py:290: DataSet.__init__ (from tensorflow.contrib.learn.python.learn.datasets.mnist) is deprecated and will be removed in a future version.\n",
      "Instructions for updating:\n",
      "Please use alternatives such as official/mnist/dataset.py from tensorflow/models.\n"
     ]
    }
   ],
   "source": [
    "# 载入数据集\n",
    "# \n",
    "# 下载 数据集\n",
    "# 将标签转换为 one_hot 编码形式\n",
    "mnist = input_data.read_data_sets('MNIST_data', one_hot=True)\n",
    "\n",
    "# tensorflow 版本更新,以前的数据集下载等 方法将不再支持,回警告！！！"
   ]
  },
  {
   "cell_type": "code",
   "execution_count": 3,
   "metadata": {},
   "outputs": [
    {
     "name": "stdout",
     "output_type": "stream",
     "text": [
      "550\n"
     ]
    }
   ],
   "source": [
    "# 定义迭代次数\n",
    "epochs = 20\n",
    "\n",
    "# 定义每次批次的大小\n",
    "batch_size = 100\n",
    "# 定义批次次数\n",
    "n_batch = mnist.train.num_examples // batch_size\n",
    "\n",
    "# 打印\n",
    "print(n_batch)"
   ]
  },
  {
   "cell_type": "code",
   "execution_count": 4,
   "metadata": {},
   "outputs": [],
   "source": [
    "# 创建 3 个占位符\n",
    "# \n",
    "# 输入样本、输入标签\n",
    "x = tf.placeholder(dtype=tf.float32, shape=(None, 784))\n",
    "y = tf.placeholder(dtype=tf.float32, shape=(None, 10))\n",
    "\n",
    "# dropout 参数设置\n",
    "keep_prob = tf.placeholder(dtype=tf.float32)"
   ]
  },
  {
   "cell_type": "code",
   "execution_count": 5,
   "metadata": {},
   "outputs": [],
   "source": [
    "# 创建神经网络\n",
    "# \n",
    "# 输入层\n",
    "weight_L1 = tf.Variable(tf.truncated_normal(shape=(784, 500), mean=0, stddev=0.1))\n",
    "biase_L1 = tf.Variable(tf.zeros(shape=(1, 500)) + 0.1)\n",
    "wx_plus_b_L1 = tf.matmul(x, weight_L1) + biase_L1\n",
    "\n",
    "# 双曲正切函数作为激活函数\n",
    "L1 = tf.nn.tanh(x=wx_plus_b_L1)\n",
    "\n",
    "# Dropout 层\n",
    "# \n",
    "# x 为该层神经元输出，keep_prob 为每层神经元工作比\n",
    "L1_dropout = tf.nn.dropout(x=L1, keep_prob=keep_prob)"
   ]
  },
  {
   "cell_type": "code",
   "execution_count": 6,
   "metadata": {},
   "outputs": [],
   "source": [
    "# 中间层\n",
    "# \n",
    "weight_L2 = tf.Variable(tf.truncated_normal(shape=(500, 300), mean=0, stddev=0.1))\n",
    "biase_L2 = tf.Variable(tf.zeros(shape=(1, 300)) + 0.1)\n",
    "wx_plus_b_L2 = tf.matmul(L1_dropout, weight_L2) + biase_L2\n",
    "\n",
    "# 激活函数 tanh()\n",
    "L2 = tf.nn.tanh(x=wx_plus_b_L2)\n",
    "\n",
    "# Dropout 层\n",
    "# \n",
    "L2_dropout = tf.nn.dropout(x=L2, keep_prob=keep_prob)\n",
    "\n",
    "# # 创建输出层\n",
    "# prediction = tf.nn.softmax(wx_plus_b_L2)"
   ]
  },
  {
   "cell_type": "code",
   "execution_count": 7,
   "metadata": {},
   "outputs": [],
   "source": [
    "# 输出层\n",
    "# \n",
    "weight_L3 = tf.Variable(tf.truncated_normal(shape=(300, 10), mean=0, stddev=0.1))\n",
    "biase_L3 = tf.Variable(tf.truncated_normal(shape=(1, 10), mean=0, stddev=0.1))\n",
    "wx_plus_b_L3 = tf.matmul(L2_dropout, weight_L3) + biase_L3\n",
    "\n",
    "# 激活函数 tanh()\n",
    "prediction = tf.nn.softmax(wx_plus_b_L3)"
   ]
  },
  {
   "cell_type": "code",
   "execution_count": 8,
   "metadata": {},
   "outputs": [
    {
     "name": "stdout",
     "output_type": "stream",
     "text": [
      "WARNING:tensorflow:From <ipython-input-8-88f16a9a355b>:6: softmax_cross_entropy_with_logits (from tensorflow.python.ops.nn_ops) is deprecated and will be removed in a future version.\n",
      "Instructions for updating:\n",
      "\n",
      "Future major versions of TensorFlow will allow gradients to flow\n",
      "into the labels input on backprop by default.\n",
      "\n",
      "See @{tf.nn.softmax_cross_entropy_with_logits_v2}.\n",
      "\n"
     ]
    }
   ],
   "source": [
    "# 损失函数、优化器\n",
    "# \n",
    "# 定义损失函数 对数似然代价函数与 soft 组合\n",
    "# \n",
    "# 训练时间、准确度有所提升\n",
    "loss = tf.reduce_mean(tf.nn.softmax_cross_entropy_with_logits(labels=y, logits=prediction))\n",
    "\n",
    "# 创建优化器，优化损失函数\n",
    "# \n",
    "# 使用变量初始化学习率\n",
    "lr = tf.Variable(initial_value=0.001, dtype=tf.float32)\n",
    "\n",
    "train = tf.train.AdamOptimizer(learning_rate=lr).minimize(loss)"
   ]
  },
  {
   "cell_type": "code",
   "execution_count": 9,
   "metadata": {},
   "outputs": [],
   "source": [
    "# 判断准去率\n",
    "# \n",
    "# tf.equal(x, y),判断 x, y 是否相等，返回 bool 类型 (tensor 里的值为 bool)\n",
    "# tf.argmax() 查找最大值，返回索引值\n",
    "# tensor 的轴(是从 0 开始的)\n",
    "correct_prediction = tf.equal(tf.argmax(y, 1), tf.argmax(prediction, 1))\n",
    "\n",
    "# tf.case() 将 bool 类型,转换为 tf.float 类型\n",
    "# \n",
    "# 疑问：acc 为什么 会有 4 位小数，出现呢？(tensor(100, 10), 里面不 1 就是 0)，我怎么感觉顶天就是 2 位小数\n",
    "# 解答：准确率是测试集，测试的(10000)张照片,固有 4 位小数出现\n",
    "accuracy = tf.reduce_mean(tf.cast(correct_prediction, tf.float32))\n",
    "\n",
    "# print(type(correct_prediction))\n",
    "# print(type(accuracy))"
   ]
  },
  {
   "cell_type": "code",
   "execution_count": 10,
   "metadata": {},
   "outputs": [],
   "source": [
    "# 初始化图中变量\n",
    "init_op = tf.global_variables_initializer()"
   ]
  },
  {
   "cell_type": "code",
   "execution_count": 11,
   "metadata": {},
   "outputs": [
    {
     "name": "stdout",
     "output_type": "stream",
     "text": [
      "Ietr 0   Testing Accuracy 0.9501   loss= 1.4718955   learning_rate 0.001\n",
      "Ietr 1   Testing Accuracy 0.9594   loss= 1.4992715   learning_rate 0.00096\n",
      "Ietr 2   Testing Accuracy 0.9652   loss= 1.4690492   learning_rate 0.0009216\n",
      "Ietr 3   Testing Accuracy 0.9684   loss= 1.4829522   learning_rate 0.000884736\n",
      "Ietr 4   Testing Accuracy 0.9705   loss= 1.5007876   learning_rate 0.0008493466\n",
      "Ietr 5   Testing Accuracy 0.9732   loss= 1.4670458   learning_rate 0.0008153727\n",
      "Ietr 6   Testing Accuracy 0.9744   loss= 1.4766684   learning_rate 0.00078275776\n",
      "Ietr 7   Testing Accuracy 0.9763   loss= 1.4616876   learning_rate 0.00075144746\n",
      "Ietr 8   Testing Accuracy 0.9764   loss= 1.4836795   learning_rate 0.0007213896\n",
      "Ietr 9   Testing Accuracy 0.9771   loss= 1.4675773   learning_rate 0.00069253397\n",
      "Ietr 10   Testing Accuracy 0.978   loss= 1.4615316   learning_rate 0.00066483265\n",
      "Ietr 11   Testing Accuracy 0.9771   loss= 1.4628638   learning_rate 0.0006382393\n",
      "Ietr 12   Testing Accuracy 0.9744   loss= 1.461602   learning_rate 0.00061270973\n",
      "Ietr 13   Testing Accuracy 0.9779   loss= 1.4713941   learning_rate 0.0005882014\n",
      "Ietr 14   Testing Accuracy 0.9791   loss= 1.4642888   learning_rate 0.00056467333\n",
      "Ietr 15   Testing Accuracy 0.9801   loss= 1.461272   learning_rate 0.0005420864\n",
      "Ietr 16   Testing Accuracy 0.9779   loss= 1.4710946   learning_rate 0.0005204029\n",
      "Ietr 17   Testing Accuracy 0.9794   loss= 1.4613713   learning_rate 0.0004995868\n",
      "Ietr 18   Testing Accuracy 0.9784   loss= 1.4654562   learning_rate 0.00047960333\n",
      "Ietr 19   Testing Accuracy 0.9809   loss= 1.4723451   learning_rate 0.0004604192\n"
     ]
    },
    {
     "data": {
      "image/png": "[encoded data removed]",
      "text/plain": [
       "<Figure size 432x288 with 2 Axes>"
      ]
     },
     "metadata": {
      "needs_background": "light"
     },
     "output_type": "display_data"
    }
   ],
   "source": [
    "# 创建会话\n",
    "with tf.Session() as sess:\n",
    "    sess.run(init_op)\n",
    "#     定义列表存储 loss\n",
    "#     迭代 21 个周期\n",
    "    loss_list = []\n",
    "    lr_list = []\n",
    "    for epoch in range(epochs):\n",
    "#         执行批次数\n",
    "#         学习率随迭代次数，随之着变化\n",
    "        res_lr = sess.run(tf.assign(ref=lr, value=(0.001 * (0.96 ** epoch))))\n",
    "        for batch in range(n_batch):\n",
    "#         一个批次获取照片数 batch_size\n",
    "            train_x, train_y = mnist.train.next_batch(batch_size=batch_size)\n",
    "           \n",
    "#             res_loss 为 loss, res_train ?\n",
    "#             训练迭代时，处最后一层外的其他层有 keep_prob 的比例工作\n",
    "            res_loss, res_train = sess.run([loss, train], feed_dict={x: train_x, y: train_y, keep_prob: 1})\n",
    "        \n",
    "#         计算网络 准确率\n",
    "#         测试 Dropout 设为 1， 全部神经网络都工作\n",
    "        test_acc = sess.run(accuracy, feed_dict={x: mnist.test.images, y: mnist.test.labels, keep_prob: 1.0})\n",
    "        \n",
    "#         将每一次迭代 loss 记录\n",
    "        loss_list.append(res_loss)\n",
    "\n",
    "#         记录每次迭代的学习率\n",
    "        lr_list.append(res_lr)\n",
    "        print('Ietr ' + str(epoch) , '  Testing Accuracy ' + str(test_acc), '  loss=', res_loss, '  learning_rate ' + str(res_lr))\n",
    "        \n",
    "#   画出 loss-epoch 关系图\n",
    "    plt.figure()\n",
    "    plt.subplot(211)\n",
    "    plt.plot(list(range(epochs)), loss_list)\n",
    "    \n",
    "#   画出 learning_rate-epoch 关系图\n",
    "    plt.subplot(212)\n",
    "    plt.plot(list(range(epochs)), lr_list)\n",
    "    plt.show()"
   ]
  },
  {
   "cell_type": "code",
   "execution_count": null,
   "metadata": {},
   "outputs": [],
   "source": []
  },
  {
   "cell_type": "code",
   "execution_count": null,
   "metadata": {},
   "outputs": [],
   "source": []
  },
  {
   "cell_type": "code",
   "execution_count": null,
   "metadata": {},
   "outputs": [],
   "source": [
    "# 没有使用 Dropout\n",
    "\n",
    "# Ietr 0  Testing Accuracy 0.9323   Train Accuracy 0.9346   res_loss= 1.5399612\n",
    "# Ietr 1  Testing Accuracy 0.9541   Train Accuracy 0.96132725   res_loss= 1.4838237\n",
    "# Ietr 2  Testing Accuracy 0.9602   Train Accuracy 0.9728909   res_loss= 1.49783\n",
    "# Ietr 3  Testing Accuracy 0.9632   Train Accuracy 0.97932726   res_loss= 1.4796754\n",
    "# Ietr 4  Testing Accuracy 0.9679   Train Accuracy 0.9825636   res_loss= 1.4844207\n",
    "# Ietr 5  Testing Accuracy 0.9698   Train Accuracy 0.9851091   res_loss= 1.4629455\n",
    "# Ietr 6  Testing Accuracy 0.969   Train Accuracy 0.9863091   res_loss= 1.4843254\n",
    "# Ietr 7  Testing Accuracy 0.9721   Train Accuracy 0.98794544   res_loss= 1.4735485\n",
    "# Ietr 8  Testing Accuracy 0.9725   Train Accuracy 0.98905456   res_loss= 1.4721011\n",
    "# Ietr 9  Testing Accuracy 0.9743   Train Accuracy 0.98965454   res_loss= 1.4730831\n",
    "# Ietr 10  Testing Accuracy 0.9747   Train Accuracy 0.9900909   res_loss= 1.491473\n",
    "# Ietr 11  Testing Accuracy 0.9747   Train Accuracy 0.9906545   res_loss= 1.4817348\n",
    "# Ietr 12  Testing Accuracy 0.9755   Train Accuracy 0.99096364   res_loss= 1.4821503\n",
    "# Ietr 13  Testing Accuracy 0.9745   Train Accuracy 0.9914   res_loss= 1.4813396\n",
    "# Ietr 14  Testing Accuracy 0.9763   Train Accuracy 0.99178183   res_loss= 1.473033\n",
    "# Ietr 15  Testing Accuracy 0.9755   Train Accuracy 0.99203634   res_loss= 1.4718902\n",
    "# Ietr 16  Testing Accuracy 0.9759   Train Accuracy 0.9923091   res_loss= 1.482006\n",
    "# Ietr 17  Testing Accuracy 0.9756   Train Accuracy 0.9926182   res_loss= 1.4619377\n",
    "# Ietr 18  Testing Accuracy 0.9762   Train Accuracy 0.9927818   res_loss= 1.4716164\n",
    "# Ietr 19  Testing Accuracy 0.976   Train Accuracy 0.9930182   res_loss= 1.501292"
   ]
  }
 ],
 "metadata": {
  "kernelspec": {
   "display_name": "Python 3",
   "language": "python",
   "name": "python3"
  },
  "language_info": {
   "codemirror_mode": {
    "name": "ipython",
    "version": 3
   },
   "file_extension": ".py",
   "mimetype": "text/x-python",
   "name": "python",
   "nbconvert_exporter": "python",
   "pygments_lexer": "ipython3",
   "version": "3.6.5"
  }
 },
 "nbformat": 4,
 "nbformat_minor": 4
}
