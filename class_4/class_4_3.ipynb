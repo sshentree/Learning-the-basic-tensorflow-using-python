{
 "cells": [
  {
   "cell_type": "code",
   "execution_count": 1,
   "metadata": {},
   "outputs": [],
   "source": [
    "import tensorflow as tf\n",
    "import matplotlib.pyplot as plt\n",
    "import numpy as np\n",
    "\n",
    "# 导入 tensorflow。mnist 数据集工具包\n",
    "from tensorflow.examples.tutorials.mnist import input_data"
   ]
  },
  {
   "cell_type": "code",
   "execution_count": 2,
   "metadata": {},
   "outputs": [
    {
     "name": "stdout",
     "output_type": "stream",
     "text": [
      "WARNING:tensorflow:From <ipython-input-2-f4f932c79956>:5: read_data_sets (from tensorflow.contrib.learn.python.learn.datasets.mnist) is deprecated and will be removed in a future version.\n",
      "Instructions for updating:\n",
      "Please use alternatives such as official/mnist/dataset.py from tensorflow/models.\n",
      "WARNING:tensorflow:From h:\\compile\\python\\python36\\lib\\site-packages\\tensorflow\\contrib\\learn\\python\\learn\\datasets\\mnist.py:260: maybe_download (from tensorflow.contrib.learn.python.learn.datasets.base) is deprecated and will be removed in a future version.\n",
      "Instructions for updating:\n",
      "Please write your own downloading logic.\n",
      "WARNING:tensorflow:From h:\\compile\\python\\python36\\lib\\site-packages\\tensorflow\\contrib\\learn\\python\\learn\\datasets\\mnist.py:262: extract_images (from tensorflow.contrib.learn.python.learn.datasets.mnist) is deprecated and will be removed in a future version.\n",
      "Instructions for updating:\n",
      "Please use tf.data to implement this functionality.\n",
      "Extracting MNIST_data\\train-images-idx3-ubyte.gz\n",
      "WARNING:tensorflow:From h:\\compile\\python\\python36\\lib\\site-packages\\tensorflow\\contrib\\learn\\python\\learn\\datasets\\mnist.py:267: extract_labels (from tensorflow.contrib.learn.python.learn.datasets.mnist) is deprecated and will be removed in a future version.\n",
      "Instructions for updating:\n",
      "Please use tf.data to implement this functionality.\n",
      "Extracting MNIST_data\\train-labels-idx1-ubyte.gz\n",
      "WARNING:tensorflow:From h:\\compile\\python\\python36\\lib\\site-packages\\tensorflow\\contrib\\learn\\python\\learn\\datasets\\mnist.py:110: dense_to_one_hot (from tensorflow.contrib.learn.python.learn.datasets.mnist) is deprecated and will be removed in a future version.\n",
      "Instructions for updating:\n",
      "Please use tf.one_hot on tensors.\n",
      "Extracting MNIST_data\\t10k-images-idx3-ubyte.gz\n",
      "Extracting MNIST_data\\t10k-labels-idx1-ubyte.gz\n",
      "WARNING:tensorflow:From h:\\compile\\python\\python36\\lib\\site-packages\\tensorflow\\contrib\\learn\\python\\learn\\datasets\\mnist.py:290: DataSet.__init__ (from tensorflow.contrib.learn.python.learn.datasets.mnist) is deprecated and will be removed in a future version.\n",
      "Instructions for updating:\n",
      "Please use alternatives such as official/mnist/dataset.py from tensorflow/models.\n"
     ]
    }
   ],
   "source": [
    "# 载入数据集\n",
    "# \n",
    "# 下载 数据集\n",
    "# 将标签转换为 one_hot 编码形式\n",
    "mnist = input_data.read_data_sets('MNIST_data', one_hot=True)\n",
    "\n",
    "# tensorflow 版本更新,以前的数据集下载等 方法将不再支持,回警告！！！"
   ]
  },
  {
   "cell_type": "code",
   "execution_count": 3,
   "metadata": {},
   "outputs": [],
   "source": [
    "# 定义迭代次数\n",
    "epochs = 30\n",
    "\n",
    "# 定义每次批次的大小\n",
    "batch_size = 100\n",
    "# 定义批次次数\n",
    "n_batch = mnist.train.num_examples // batch_size\n",
    "\n",
    "# 定义绘张量图函数\n",
    "def variable_scalars(var):\n",
    "    with tf.name_scope('summaries'):\n",
    "        with tf.name_scope('mean'):\n",
    "            mean = tf.reduce_mean(var) # 平均值\n",
    "        with tf.name_scope('stddev'):\n",
    "            stddev = tf.sqrt(tf.reduce_mean(tf.square(var - mean))) # 均方差\n",
    "        tf.summary.scalar('stddev', stddev)\n",
    "        tf.summary.scalar('max', tf.reduce_max(var))\n",
    "        tf.summary.scalar('min', tf.reduce_min(var))\n",
    "        tf.summary.histogram('histigram', var) \n",
    "\n",
    "# 打印\n",
    "# print(n_batch)"
   ]
  },
  {
   "cell_type": "code",
   "execution_count": 4,
   "metadata": {},
   "outputs": [],
   "source": [
    "# 创建 3 个占位符\n",
    "# \n",
    "# 输入样本、输入标签\n",
    "with tf.name_scope('Input'):\n",
    "    x = tf.placeholder(dtype=tf.float32, shape=(None, 784), name='x_input')\n",
    "    y = tf.placeholder(dtype=tf.float32, shape=(None, 10), name='y_input')"
   ]
  },
  {
   "cell_type": "code",
   "execution_count": 5,
   "metadata": {},
   "outputs": [],
   "source": [
    "# 创建神经网络\n",
    "# \n",
    "# 输入层\n",
    "with tf.name_scope('layer_1'):\n",
    "    with tf.name_scope('weigth'):\n",
    "        weight_L1 = tf.Variable(tf.truncated_normal(shape=(784, 100), mean=0, stddev=0.1), name='w')\n",
    "        \n",
    "        variable_scalars(weight_L1)\n",
    "        \n",
    "    with tf.name_scope('biase'):\n",
    "        biase_L1 = tf.Variable(tf.zeros(shape=(1, 100)) + 0.1, name='b')\n",
    "        \n",
    "        variable_scalars(biase_L1)\n",
    "        \n",
    "    with tf.name_scope('w_plus_b'):\n",
    "        wx_plus_b_L1 = tf.matmul(x, weight_L1) + biase_L1\n",
    "        \n",
    "    with tf.name_scope('tanh'):\n",
    "        # 双曲正切函数作为激活函数\n",
    "        L1 = tf.nn.tanh(x=wx_plus_b_L1, name='tanh')"
   ]
  },
  {
   "cell_type": "code",
   "execution_count": 6,
   "metadata": {},
   "outputs": [],
   "source": [
    "# 输出层\n",
    "# \n",
    "with tf.name_scope('layer_2'):\n",
    "    with tf.name_scope('weigth'):\n",
    "        weight_L2 = tf.Variable(tf.truncated_normal(shape=(100, 10), mean=0, stddev=0.1), name='w')\n",
    "        \n",
    "        variable_scalars(weight_L2)\n",
    "        \n",
    "    with tf.name_scope('biase'):\n",
    "        biase_L2 = tf.Variable(tf.zeros(shape=(1, 10)) + 0.1, name='b')\n",
    "        \n",
    "        variable_scalars(biase_L2)\n",
    "        \n",
    "    with tf.name_scope('w_plus_b'):\n",
    "        wx_plus_b_L2 = tf.matmul(L1, weight_L2) + biase_L2\n",
    "        \n",
    "    with tf.name_scope('soft'):\n",
    "        # 激活函数 tanh()\n",
    "        prediction = tf.nn.softmax(wx_plus_b_L2)\n",
    "        "
   ]
  },
  {
   "cell_type": "code",
   "execution_count": 7,
   "metadata": {},
   "outputs": [
    {
     "name": "stdout",
     "output_type": "stream",
     "text": [
      "WARNING:tensorflow:From <ipython-input-7-c9012ed61623>:7: softmax_cross_entropy_with_logits (from tensorflow.python.ops.nn_ops) is deprecated and will be removed in a future version.\n",
      "Instructions for updating:\n",
      "\n",
      "Future major versions of TensorFlow will allow gradients to flow\n",
      "into the labels input on backprop by default.\n",
      "\n",
      "See @{tf.nn.softmax_cross_entropy_with_logits_v2}.\n",
      "\n"
     ]
    }
   ],
   "source": [
    "with tf.name_scope('loss'):\n",
    "    # 损失函数、优化器\n",
    "    # \n",
    "    # 定义损失函数 对数似然代价函数与 soft 组合\n",
    "    # \n",
    "    # 训练时间、准确度有所提升\n",
    "    loss = tf.reduce_mean(tf.nn.softmax_cross_entropy_with_logits(labels=y, logits=prediction), name='loss')\n",
    "    tf.summary.scalar('loss', loss)\n",
    "    \n",
    "with tf.name_scope('train'):\n",
    "    # 创建优化器，优化损失函数\n",
    "\n",
    "    train = tf.train.AdamOptimizer(learning_rate=0.01).minimize(loss)"
   ]
  },
  {
   "cell_type": "code",
   "execution_count": 8,
   "metadata": {},
   "outputs": [],
   "source": [
    "with tf.name_scope('accuracy'):\n",
    "    with tf.name_scope('correct_prediction'):\n",
    "        # 判断准去率\n",
    "        # \n",
    "        # tf.equal(x, y),判断 x, y 是否相等，返回 bool 类型 (tensor 里的值为 bool)\n",
    "        # tf.argmax() 查找最大值，返回索引值\n",
    "        # tensor 的轴(是从 0 开始的)\n",
    "        correct_prediction = tf.equal(tf.argmax(y, 1), tf.argmax(prediction, 1), name='correct')\n",
    "        \n",
    "    with tf.name_scope('accuracy'):\n",
    "\n",
    "        # tf.case() 将 bool 类型,转换为 tf.float 类型\n",
    "        # \n",
    "        # 疑问：acc 为什么 会有 4 位小数，出现呢？(tensor(100, 10), 里面不 1 就是 0)，我怎么感觉顶天就是 2 位小数\n",
    "        # 解答：准确率是测试集，测试的(10000)张照片,固有 4 位小数出现\n",
    "        accuracy = tf.reduce_mean(tf.cast(correct_prediction, tf.float32), name='accuracy')\n",
    "        \n",
    "        tf.summary.scalar('accuracy', accuracy)"
   ]
  },
  {
   "cell_type": "code",
   "execution_count": 9,
   "metadata": {},
   "outputs": [],
   "source": [
    "with tf.name_scope('init'):\n",
    "    # 初始化图中变量\n",
    "    init_op = tf.global_variables_initializer()"
   ]
  },
  {
   "cell_type": "code",
   "execution_count": 10,
   "metadata": {},
   "outputs": [],
   "source": [
    "# 合并所有 summary\n",
    "merged = tf.summary.merge_all()"
   ]
  },
  {
   "cell_type": "code",
   "execution_count": 11,
   "metadata": {},
   "outputs": [
    {
     "name": "stdout",
     "output_type": "stream",
     "text": [
      "Ietr=0   Testing Accuracy=0.9405   loss= 1.5044274\n",
      "Ietr=1   Testing Accuracy=0.9465   loss= 1.535991\n",
      "Ietr=2   Testing Accuracy=0.9452   loss= 1.5309926\n",
      "Ietr=3   Testing Accuracy=0.9556   loss= 1.5318081\n",
      "Ietr=4   Testing Accuracy=0.9535   loss= 1.5573387\n",
      "Ietr=5   Testing Accuracy=0.9525   loss= 1.5302936\n",
      "Ietr=6   Testing Accuracy=0.9557   loss= 1.5000088\n",
      "Ietr=7   Testing Accuracy=0.9512   loss= 1.4909836\n",
      "Ietr=8   Testing Accuracy=0.9552   loss= 1.5023111\n",
      "Ietr=9   Testing Accuracy=0.9541   loss= 1.5089171\n",
      "Ietr=10   Testing Accuracy=0.9564   loss= 1.5088681\n",
      "Ietr=11   Testing Accuracy=0.9567   loss= 1.5135499\n",
      "Ietr=12   Testing Accuracy=0.9572   loss= 1.4646878\n",
      "Ietr=13   Testing Accuracy=0.9579   loss= 1.4879792\n",
      "Ietr=14   Testing Accuracy=0.9563   loss= 1.4992185\n",
      "Ietr=15   Testing Accuracy=0.9619   loss= 1.4914148\n",
      "Ietr=16   Testing Accuracy=0.9607   loss= 1.4729191\n",
      "Ietr=17   Testing Accuracy=0.9611   loss= 1.4845654\n",
      "Ietr=18   Testing Accuracy=0.9569   loss= 1.4984475\n",
      "Ietr=19   Testing Accuracy=0.9605   loss= 1.4717526\n",
      "Ietr=20   Testing Accuracy=0.9614   loss= 1.4677353\n",
      "Ietr=21   Testing Accuracy=0.9587   loss= 1.4797727\n",
      "Ietr=22   Testing Accuracy=0.9568   loss= 1.4841471\n",
      "Ietr=23   Testing Accuracy=0.9573   loss= 1.5237548\n",
      "Ietr=24   Testing Accuracy=0.9619   loss= 1.4899285\n",
      "Ietr=25   Testing Accuracy=0.9611   loss= 1.5015944\n",
      "Ietr=26   Testing Accuracy=0.9604   loss= 1.5013952\n",
      "Ietr=27   Testing Accuracy=0.9621   loss= 1.4915718\n",
      "Ietr=28   Testing Accuracy=0.9588   loss= 1.476186\n",
      "Ietr=29   Testing Accuracy=0.9589   loss= 1.492489\n"
     ]
    },
    {
     "data": {
      "image/png": "[encoded data removed]",
      "text/plain": [
       "<Figure size 432x288 with 1 Axes>"
      ]
     },
     "metadata": {
      "needs_background": "light"
     },
     "output_type": "display_data"
    }
   ],
   "source": [
    "# 创建会话\n",
    "with tf.Session() as sess:\n",
    "#     创建 writer，写入日志文件\n",
    "    writer = tf.summary.FileWriter('logs431/', tf.get_default_graph())\n",
    "\n",
    "    sess.run(init_op)\n",
    "#     定义列表存储 loss\n",
    "#     迭代 21 个周期\n",
    "    loss_list = []\n",
    "    lr_list = []\n",
    "    for epoch in range(epochs):\n",
    "        for batch in range(n_batch):\n",
    "#         一个批次获取照片数 batch_size\n",
    "            train_x, train_y = mnist.train.next_batch(batch_size=batch_size)\n",
    "           \n",
    "#             res_loss 为 loss, res_train ?\n",
    "#             训练迭代时，处最后一层外的其他层有 keep_prob 的比例工作\n",
    "            res_loss, res_train , res_merge= sess.run([loss, train, merged], feed_dict={x: train_x, y: train_y})\n",
    "        \n",
    "#         计算网络 准确率\n",
    "#         测试 Dropout 设为 1， 全部神经网络都工作\n",
    "        test_acc = sess.run(accuracy, feed_dict={x: mnist.test.images, y: mnist.test.labels})\n",
    "        \n",
    "#         将所有 summary 写入文件\n",
    "        writer.add_summary(summary=res_merge, global_step=epoch)\n",
    "        \n",
    "#         将每一次迭代 loss 记录\n",
    "        loss_list.append(res_loss)\n",
    "\n",
    "        print('Ietr=' + str(epoch) , '  Testing Accuracy=' + str(test_acc), '  loss=', str(res_loss))\n",
    "        \n",
    "#     保存\n",
    "    writer.close()\n",
    "#   画出 loss-epoch 关系图\n",
    "    plt.figure()\n",
    "    plt.subplot(211)\n",
    "    plt.plot(list(range(epochs)), loss_list)"
   ]
  },
  {
   "cell_type": "code",
   "execution_count": null,
   "metadata": {},
   "outputs": [],
   "source": []
  },
  {
   "cell_type": "code",
   "execution_count": null,
   "metadata": {},
   "outputs": [],
   "source": []
  },
  {
   "cell_type": "code",
   "execution_count": null,
   "metadata": {},
   "outputs": [],
   "source": [
    "# 没有使用 Dropout\n",
    "\n",
    "# Ietr 0  Testing Accuracy 0.9323   Train Accuracy 0.9346   res_loss= 1.5399612\n",
    "# Ietr 1  Testing Accuracy 0.9541   Train Accuracy 0.96132725   res_loss= 1.4838237\n",
    "# Ietr 2  Testing Accuracy 0.9602   Train Accuracy 0.9728909   res_loss= 1.49783\n",
    "# Ietr 3  Testing Accuracy 0.9632   Train Accuracy 0.97932726   res_loss= 1.4796754\n",
    "# Ietr 4  Testing Accuracy 0.9679   Train Accuracy 0.9825636   res_loss= 1.4844207\n",
    "# Ietr 5  Testing Accuracy 0.9698   Train Accuracy 0.9851091   res_loss= 1.4629455\n",
    "# Ietr 6  Testing Accuracy 0.969   Train Accuracy 0.9863091   res_loss= 1.4843254\n",
    "# Ietr 7  Testing Accuracy 0.9721   Train Accuracy 0.98794544   res_loss= 1.4735485\n",
    "# Ietr 8  Testing Accuracy 0.9725   Train Accuracy 0.98905456   res_loss= 1.4721011\n",
    "# Ietr 9  Testing Accuracy 0.9743   Train Accuracy 0.98965454   res_loss= 1.4730831\n",
    "# Ietr 10  Testing Accuracy 0.9747   Train Accuracy 0.9900909   res_loss= 1.491473\n",
    "# Ietr 11  Testing Accuracy 0.9747   Train Accuracy 0.9906545   res_loss= 1.4817348\n",
    "# Ietr 12  Testing Accuracy 0.9755   Train Accuracy 0.99096364   res_loss= 1.4821503\n",
    "# Ietr 13  Testing Accuracy 0.9745   Train Accuracy 0.9914   res_loss= 1.4813396\n",
    "# Ietr 14  Testing Accuracy 0.9763   Train Accuracy 0.99178183   res_loss= 1.473033\n",
    "# Ietr 15  Testing Accuracy 0.9755   Train Accuracy 0.99203634   res_loss= 1.4718902\n",
    "# Ietr 16  Testing Accuracy 0.9759   Train Accuracy 0.9923091   res_loss= 1.482006\n",
    "# Ietr 17  Testing Accuracy 0.9756   Train Accuracy 0.9926182   res_loss= 1.4619377\n",
    "# Ietr 18  Testing Accuracy 0.9762   Train Accuracy 0.9927818   res_loss= 1.4716164\n",
    "# Ietr 19  Testing Accuracy 0.976   Train Accuracy 0.9930182   res_loss= 1.501292"
   ]
  }
 ],
 "metadata": {
  "kernelspec": {
   "display_name": "Python 3",
   "language": "python",
   "name": "python3"
  },
  "language_info": {
   "codemirror_mode": {
    "name": "ipython",
    "version": 3
   },
   "file_extension": ".py",
   "mimetype": "text/x-python",
   "name": "python",
   "nbconvert_exporter": "python",
   "pygments_lexer": "ipython3",
   "version": "3.6.5"
  }
 },
 "nbformat": 4,
 "nbformat_minor": 4
}
