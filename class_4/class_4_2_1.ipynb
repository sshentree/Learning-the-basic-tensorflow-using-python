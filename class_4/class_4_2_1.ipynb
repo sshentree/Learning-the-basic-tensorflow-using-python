{
 "cells": [
  {
   "cell_type": "code",
   "execution_count": 1,
   "metadata": {},
   "outputs": [],
   "source": [
    "import tensorflow as tf\n",
    "import matplotlib.pyplot as plt\n",
    "import numpy as np\n",
    "\n",
    "# 导入 tensorflow。mnist 数据集工具包\n",
    "from tensorflow.examples.tutorials.mnist import input_data"
   ]
  },
  {
   "cell_type": "code",
   "execution_count": 2,
   "metadata": {},
   "outputs": [
    {
     "name": "stdout",
     "output_type": "stream",
     "text": [
      "WARNING:tensorflow:From <ipython-input-2-f4f932c79956>:5: read_data_sets (from tensorflow.contrib.learn.python.learn.datasets.mnist) is deprecated and will be removed in a future version.\n",
      "Instructions for updating:\n",
      "Please use alternatives such as official/mnist/dataset.py from tensorflow/models.\n",
      "WARNING:tensorflow:From h:\\compile\\python\\python36\\lib\\site-packages\\tensorflow\\contrib\\learn\\python\\learn\\datasets\\mnist.py:260: maybe_download (from tensorflow.contrib.learn.python.learn.datasets.base) is deprecated and will be removed in a future version.\n",
      "Instructions for updating:\n",
      "Please write your own downloading logic.\n",
      "WARNING:tensorflow:From h:\\compile\\python\\python36\\lib\\site-packages\\tensorflow\\contrib\\learn\\python\\learn\\datasets\\mnist.py:262: extract_images (from tensorflow.contrib.learn.python.learn.datasets.mnist) is deprecated and will be removed in a future version.\n",
      "Instructions for updating:\n",
      "Please use tf.data to implement this functionality.\n",
      "Extracting MNIST_data\\train-images-idx3-ubyte.gz\n",
      "WARNING:tensorflow:From h:\\compile\\python\\python36\\lib\\site-packages\\tensorflow\\contrib\\learn\\python\\learn\\datasets\\mnist.py:267: extract_labels (from tensorflow.contrib.learn.python.learn.datasets.mnist) is deprecated and will be removed in a future version.\n",
      "Instructions for updating:\n",
      "Please use tf.data to implement this functionality.\n",
      "Extracting MNIST_data\\train-labels-idx1-ubyte.gz\n",
      "WARNING:tensorflow:From h:\\compile\\python\\python36\\lib\\site-packages\\tensorflow\\contrib\\learn\\python\\learn\\datasets\\mnist.py:110: dense_to_one_hot (from tensorflow.contrib.learn.python.learn.datasets.mnist) is deprecated and will be removed in a future version.\n",
      "Instructions for updating:\n",
      "Please use tf.one_hot on tensors.\n",
      "Extracting MNIST_data\\t10k-images-idx3-ubyte.gz\n",
      "Extracting MNIST_data\\t10k-labels-idx1-ubyte.gz\n",
      "WARNING:tensorflow:From h:\\compile\\python\\python36\\lib\\site-packages\\tensorflow\\contrib\\learn\\python\\learn\\datasets\\mnist.py:290: DataSet.__init__ (from tensorflow.contrib.learn.python.learn.datasets.mnist) is deprecated and will be removed in a future version.\n",
      "Instructions for updating:\n",
      "Please use alternatives such as official/mnist/dataset.py from tensorflow/models.\n"
     ]
    }
   ],
   "source": [
    "# 载入数据集\n",
    "# \n",
    "# 下载 数据集\n",
    "# 将标签转换为 one_hot 编码形式\n",
    "mnist = input_data.read_data_sets('MNIST_data', one_hot=True)\n",
    "\n",
    "# tensorflow 版本更新,以前的数据集下载等 方法将不再支持,回警告！！！"
   ]
  },
  {
   "cell_type": "code",
   "execution_count": 3,
   "metadata": {},
   "outputs": [
    {
     "name": "stdout",
     "output_type": "stream",
     "text": [
      "550\n"
     ]
    }
   ],
   "source": [
    "# 定义迭代次数\n",
    "epochs = 20\n",
    "\n",
    "# 定义每次批次的大小\n",
    "batch_size = 100\n",
    "# 定义批次次数\n",
    "n_batch = mnist.train.num_examples // batch_size\n",
    "\n",
    "# 打印\n",
    "print(n_batch)"
   ]
  },
  {
   "cell_type": "code",
   "execution_count": 4,
   "metadata": {},
   "outputs": [],
   "source": [
    "# 创建 3 个占位符\n",
    "# \n",
    "# 输入样本、输入标签\n",
    "with tf.name_scope('Input'):\n",
    "    x = tf.placeholder(dtype=tf.float32, shape=(None, 784), name='x_input')\n",
    "    y = tf.placeholder(dtype=tf.float32, shape=(None, 10), name='y_input')"
   ]
  },
  {
   "cell_type": "code",
   "execution_count": 5,
   "metadata": {},
   "outputs": [],
   "source": [
    "# 创建神经网络\n",
    "# \n",
    "# 输入层\n",
    "with tf.name_scope('layer_1'):\n",
    "    with tf.name_scope('weigth'):\n",
    "        weight_L1 = tf.Variable(tf.truncated_normal(shape=(784, 100), mean=0, stddev=0.1), name='w')\n",
    "    with tf.name_scope('biase'):\n",
    "        biase_L1 = tf.Variable(tf.zeros(shape=(1, 100)) + 0.1, name='b')\n",
    "    with tf.name_scope('w_plus_b'):\n",
    "        wx_plus_b_L1 = tf.matmul(x, weight_L1) + biase_L1\n",
    "        \n",
    "    with tf.name_scope('tanh'):\n",
    "        # 双曲正切函数作为激活函数\n",
    "        L1 = tf.nn.tanh(x=wx_plus_b_L1, name='tanh')"
   ]
  },
  {
   "cell_type": "code",
   "execution_count": 6,
   "metadata": {},
   "outputs": [],
   "source": [
    "# 输出层\n",
    "# \n",
    "with tf.name_scope('layer_2'):\n",
    "    with tf.name_scope('weigth'):\n",
    "        weight_L2 = tf.Variable(tf.truncated_normal(shape=(100, 10), mean=0, stddev=0.1), name='w')\n",
    "    with tf.name_scope('biase'):\n",
    "        biase_L2 = tf.Variable(tf.zeros(shape=(1, 10)) + 0.1, name='b')\n",
    "    with tf.name_scope('w_plus_b'):\n",
    "        wx_plus_b_L2 = tf.matmul(L1, weight_L2) + biase_L2\n",
    "        \n",
    "    with tf.name_scope('soft'):\n",
    "        # 激活函数 tanh()\n",
    "        prediction = tf.nn.softmax(wx_plus_b_L2)\n",
    "        "
   ]
  },
  {
   "cell_type": "code",
   "execution_count": 7,
   "metadata": {},
   "outputs": [
    {
     "name": "stdout",
     "output_type": "stream",
     "text": [
      "WARNING:tensorflow:From <ipython-input-7-7ed42f9b2146>:7: softmax_cross_entropy_with_logits (from tensorflow.python.ops.nn_ops) is deprecated and will be removed in a future version.\n",
      "Instructions for updating:\n",
      "\n",
      "Future major versions of TensorFlow will allow gradients to flow\n",
      "into the labels input on backprop by default.\n",
      "\n",
      "See @{tf.nn.softmax_cross_entropy_with_logits_v2}.\n",
      "\n"
     ]
    }
   ],
   "source": [
    "with tf.name_scope('loss'):\n",
    "    # 损失函数、优化器\n",
    "    # \n",
    "    # 定义损失函数 对数似然代价函数与 soft 组合\n",
    "    # \n",
    "    # 训练时间、准确度有所提升\n",
    "    loss = tf.reduce_mean(tf.nn.softmax_cross_entropy_with_logits(labels=y, logits=prediction), name='loss')\n",
    "    \n",
    "with tf.name_scope('train'):\n",
    "    # 创建优化器，优化损失函数\n",
    "\n",
    "    train = tf.train.AdamOptimizer(learning_rate=0.01).minimize(loss)"
   ]
  },
  {
   "cell_type": "code",
   "execution_count": 8,
   "metadata": {},
   "outputs": [],
   "source": [
    "with tf.name_scope('accuracy'):\n",
    "    with tf.name_scope('correct_prediction'):\n",
    "        # 判断准去率\n",
    "        # \n",
    "        # tf.equal(x, y),判断 x, y 是否相等，返回 bool 类型 (tensor 里的值为 bool)\n",
    "        # tf.argmax() 查找最大值，返回索引值\n",
    "        # tensor 的轴(是从 0 开始的)\n",
    "        correct_prediction = tf.equal(tf.argmax(y, 1), tf.argmax(prediction, 1), name='correct')\n",
    "        \n",
    "    with tf.name_scope('accuracy'):\n",
    "\n",
    "        # tf.case() 将 bool 类型,转换为 tf.float 类型\n",
    "        # \n",
    "        # 疑问：acc 为什么 会有 4 位小数，出现呢？(tensor(100, 10), 里面不 1 就是 0)，我怎么感觉顶天就是 2 位小数\n",
    "        # 解答：准确率是测试集，测试的(10000)张照片,固有 4 位小数出现\n",
    "        accuracy = tf.reduce_mean(tf.cast(correct_prediction, tf.float32), name='accuracy')"
   ]
  },
  {
   "cell_type": "code",
   "execution_count": 9,
   "metadata": {},
   "outputs": [],
   "source": [
    "with tf.name_scope('init'):\n",
    "    # 初始化图中变量\n",
    "    init_op = tf.global_variables_initializer()"
   ]
  },
  {
   "cell_type": "code",
   "execution_count": 10,
   "metadata": {},
   "outputs": [],
   "source": [
    "writer = tf.summary.FileWriter('logs421/', tf.get_default_graph())\n",
    "#     保存日志文件\n",
    "writer.close()"
   ]
  },
  {
   "cell_type": "code",
   "execution_count": 11,
   "metadata": {},
   "outputs": [
    {
     "name": "stdout",
     "output_type": "stream",
     "text": [
      "Ietr=0   Testing Accuracy=0.943   loss= 1.5169684\n",
      "Ietr=1   Testing Accuracy=0.9506   loss= 1.503061\n"
     ]
    },
    {
     "data": {
      "image/png": "[encoded data removed]",
      "text/plain": [
       "<Figure size 432x288 with 1 Axes>"
      ]
     },
     "metadata": {
      "needs_background": "light"
     },
     "output_type": "display_data"
    }
   ],
   "source": [
    "# 创建会话\n",
    "with tf.Session() as sess:\n",
    "#     创建 writer，写入日志文件\n",
    "\n",
    "    sess.run(init_op)\n",
    "#     定义列表存储 loss\n",
    "#     迭代 21 个周期\n",
    "    loss_list = []\n",
    "    lr_list = []\n",
    "    for epoch in range(epochs):\n",
    "        for batch in range(n_batch):\n",
    "#         一个批次获取照片数 batch_size\n",
    "            train_x, train_y = mnist.train.next_batch(batch_size=batch_size)\n",
    "           \n",
    "#             res_loss 为 loss, res_train ?\n",
    "#             训练迭代时，处最后一层外的其他层有 keep_prob 的比例工作\n",
    "            res_loss, res_train = sess.run([loss, train], feed_dict={x: train_x, y: train_y})\n",
    "        \n",
    "#         计算网络 准确率\n",
    "#         测试 Dropout 设为 1， 全部神经网络都工作\n",
    "        test_acc = sess.run(accuracy, feed_dict={x: mnist.test.images, y: mnist.test.labels})\n",
    "        \n",
    "#         将每一次迭代 loss 记录\n",
    "        loss_list.append(res_loss)\n",
    "\n",
    "        print('Ietr=' + str(epoch) , '  Testing Accuracy=' + str(test_acc), '  loss=', str(res_loss))\n",
    "        \n",
    "#   画出 loss-epoch 关系图\n",
    "    plt.figure()\n",
    "    plt.subplot(211)\n",
    "    plt.plot(list(range(epochs)), loss_list)"
   ]
  }
 ],
 "metadata": {
  "kernelspec": {
   "display_name": "Python 3",
   "language": "python",
   "name": "python3"
  },
  "language_info": {
   "codemirror_mode": {
    "name": "ipython",
    "version": 3
   },
   "file_extension": ".py",
   "mimetype": "text/x-python",
   "name": "python",
   "nbconvert_exporter": "python",
   "pygments_lexer": "ipython3",
   "version": "3.6.5"
  }
 },
 "nbformat": 4,
 "nbformat_minor": 4
}
