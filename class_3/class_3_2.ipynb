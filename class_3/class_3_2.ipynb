{
 "cells": [
  {
   "cell_type": "code",
   "execution_count": 1,
   "metadata": {},
   "outputs": [],
   "source": [
    "import tensorflow as tf\n",
    "import matplotlib.pyplot as plt\n",
    "import numpy as np\n",
    "\n",
    "# 导入 tensorflow。mnist 数据集工具包\n",
    "from tensorflow.examples.tutorials.mnist import input_data"
   ]
  },
  {
   "cell_type": "code",
   "execution_count": 2,
   "metadata": {},
   "outputs": [
    {
     "name": "stdout",
     "output_type": "stream",
     "text": [
      "WARNING:tensorflow:From <ipython-input-2-f4f932c79956>:5: read_data_sets (from tensorflow.contrib.learn.python.learn.datasets.mnist) is deprecated and will be removed in a future version.\n",
      "Instructions for updating:\n",
      "Please use alternatives such as official/mnist/dataset.py from tensorflow/models.\n",
      "WARNING:tensorflow:From h:\\compile\\python\\python36\\lib\\site-packages\\tensorflow\\contrib\\learn\\python\\learn\\datasets\\mnist.py:260: maybe_download (from tensorflow.contrib.learn.python.learn.datasets.base) is deprecated and will be removed in a future version.\n",
      "Instructions for updating:\n",
      "Please write your own downloading logic.\n",
      "WARNING:tensorflow:From h:\\compile\\python\\python36\\lib\\site-packages\\tensorflow\\contrib\\learn\\python\\learn\\datasets\\mnist.py:262: extract_images (from tensorflow.contrib.learn.python.learn.datasets.mnist) is deprecated and will be removed in a future version.\n",
      "Instructions for updating:\n",
      "Please use tf.data to implement this functionality.\n",
      "Extracting MNIST_data\\train-images-idx3-ubyte.gz\n",
      "WARNING:tensorflow:From h:\\compile\\python\\python36\\lib\\site-packages\\tensorflow\\contrib\\learn\\python\\learn\\datasets\\mnist.py:267: extract_labels (from tensorflow.contrib.learn.python.learn.datasets.mnist) is deprecated and will be removed in a future version.\n",
      "Instructions for updating:\n",
      "Please use tf.data to implement this functionality.\n",
      "Extracting MNIST_data\\train-labels-idx1-ubyte.gz\n",
      "WARNING:tensorflow:From h:\\compile\\python\\python36\\lib\\site-packages\\tensorflow\\contrib\\learn\\python\\learn\\datasets\\mnist.py:110: dense_to_one_hot (from tensorflow.contrib.learn.python.learn.datasets.mnist) is deprecated and will be removed in a future version.\n",
      "Instructions for updating:\n",
      "Please use tf.one_hot on tensors.\n",
      "Extracting MNIST_data\\t10k-images-idx3-ubyte.gz\n",
      "Extracting MNIST_data\\t10k-labels-idx1-ubyte.gz\n",
      "WARNING:tensorflow:From h:\\compile\\python\\python36\\lib\\site-packages\\tensorflow\\contrib\\learn\\python\\learn\\datasets\\mnist.py:290: DataSet.__init__ (from tensorflow.contrib.learn.python.learn.datasets.mnist) is deprecated and will be removed in a future version.\n",
      "Instructions for updating:\n",
      "Please use alternatives such as official/mnist/dataset.py from tensorflow/models.\n"
     ]
    }
   ],
   "source": [
    "# 载入数据集\n",
    "# \n",
    "# 下载 数据集\n",
    "# 将标签转换为 one_hot 编码形式\n",
    "mnist = input_data.read_data_sets('MNIST_data', one_hot=True)\n",
    "\n",
    "# tensorflow 版本更新,以前的数据集下载等 方法将不再支持,回警告！！！"
   ]
  },
  {
   "cell_type": "code",
   "execution_count": 3,
   "metadata": {},
   "outputs": [
    {
     "name": "stdout",
     "output_type": "stream",
     "text": [
      "550\n"
     ]
    }
   ],
   "source": [
    "# 定义迭代次数\n",
    "epochs = 20\n",
    "\n",
    "# 定义每次批次的大小\n",
    "batch_size = 100\n",
    "# 定义批次次数\n",
    "n_batch = mnist.train.num_examples // batch_size\n",
    "\n",
    "# 打印\n",
    "print(n_batch)"
   ]
  },
  {
   "cell_type": "code",
   "execution_count": 4,
   "metadata": {},
   "outputs": [],
   "source": [
    "# 创建 2 个占位符\n",
    "x = tf.placeholder(dtype=tf.float32, shape=(None, 784))\n",
    "y = tf.placeholder(dtype=tf.float32, shape=(None, 10))"
   ]
  },
  {
   "cell_type": "code",
   "execution_count": 5,
   "metadata": {},
   "outputs": [],
   "source": [
    "# 创建神经网络\n",
    "# \n",
    "# 输入层\n",
    "weight_L1 = tf.Variable(tf.zeros(shape=(784, 10)))\n",
    "biase_L1 = tf.Variable(tf.zeros(shape=(1, 10)))\n",
    "wx_plus_b_L1 = tf.matmul(x, weight_L1) + biase_L1\n",
    "prediction = tf.nn.softmax(wx_plus_b_L1)\n",
    "\n",
    "# prediction.shape = (None, 10)\n",
    "# print(prediction.shape)"
   ]
  },
  {
   "cell_type": "code",
   "execution_count": 6,
   "metadata": {},
   "outputs": [],
   "source": [
    "# # 中间层\n",
    "# # \n",
    "# # 加上中间层(准确率不高),有可能过拟合\n",
    "# weight_L2 = tf.Variable(tf.zeros(shape=(100, 10)))\n",
    "# biase_L2 = tf.Variable(tf.zeros(shape=(1, 10)))\n",
    "# wx_plus_b_L2 = tf.matmul(L1, weight_L2) + biase_L2\n",
    "\n",
    "# # 创建输出层\n",
    "# prediction = tf.nn.softmax(wx_plus_b_L2)"
   ]
  },
  {
   "cell_type": "code",
   "execution_count": 7,
   "metadata": {},
   "outputs": [
    {
     "name": "stdout",
     "output_type": "stream",
     "text": [
      "WARNING:tensorflow:From <ipython-input-7-ca23d56062f1>:9: softmax_cross_entropy_with_logits (from tensorflow.python.ops.nn_ops) is deprecated and will be removed in a future version.\n",
      "Instructions for updating:\n",
      "\n",
      "Future major versions of TensorFlow will allow gradients to flow\n",
      "into the labels input on backprop by default.\n",
      "\n",
      "See @{tf.nn.softmax_cross_entropy_with_logits_v2}.\n",
      "\n"
     ]
    }
   ],
   "source": [
    "# 损失函数、优化器\n",
    "# \n",
    "# 定义损失函数\n",
    "# loss = tf.reduce_mean(tf.square(y - prediction))\n",
    "# \n",
    "# 定义损失函数 对数似然代价函数与 soft 组合\n",
    "# \n",
    "# 训练时间、准确度有所提升\n",
    "loss = tf.reduce_mean(tf.nn.softmax_cross_entropy_with_logits(labels=y, logits=prediction))\n",
    "\n",
    "# 创建优化器，优化损失函数\n",
    "train = tf.train.GradientDescentOptimizer(learning_rate=0.2).minimize(loss)"
   ]
  },
  {
   "cell_type": "code",
   "execution_count": 8,
   "metadata": {},
   "outputs": [
    {
     "name": "stdout",
     "output_type": "stream",
     "text": [
      "<class 'tensorflow.python.framework.ops.Tensor'>\n",
      "<class 'tensorflow.python.framework.ops.Tensor'>\n"
     ]
    }
   ],
   "source": [
    "# 判断准去率\n",
    "# \n",
    "# tf.equal(x, y),判断 x, y 是否相等，返回 bool 类型 (tensor 里的值为 bool)\n",
    "# tf.argmax() 查找最大值，返回索引值\n",
    "# tensor 的轴(是从 0 开始的)\n",
    "correct_prediction = tf.equal(tf.argmax(y, 1), tf.argmax(prediction, 1))\n",
    "\n",
    "# tf.case() 将 bool 类型,转换为 tf.float 类型\n",
    "# \n",
    "# 疑问：acc 为什么 会有 4 位小数，出现呢？(tensor(100, 10), 里面不 1 就是 0)，我怎么感觉顶天就是 2 位小数\n",
    "# 解答：准确率是测试集，测试的(10000)张照片,固有 4 位小数出现\n",
    "accuracy = tf.reduce_mean(tf.cast(correct_prediction, tf.float32))\n",
    "\n",
    "print(type(correct_prediction))\n",
    "print(type(accuracy))"
   ]
  },
  {
   "cell_type": "code",
   "execution_count": 9,
   "metadata": {},
   "outputs": [],
   "source": [
    "# 初始化图中变量\n",
    "init_op = tf.global_variables_initializer()"
   ]
  },
  {
   "cell_type": "code",
   "execution_count": 10,
   "metadata": {},
   "outputs": [
    {
     "name": "stdout",
     "output_type": "stream",
     "text": [
      "Ietr 0  Testing Accuracy 0.825   res_loss= 1.7279522  res_train None\n",
      "Ietr 1  Testing Accuracy 0.8945   res_loss= 1.5980908  res_train None\n",
      "Ietr 2  Testing Accuracy 0.9013   res_loss= 1.5760034  res_train None\n",
      "Ietr 3  Testing Accuracy 0.9053   res_loss= 1.5967703  res_train None\n",
      "Ietr 4  Testing Accuracy 0.908   res_loss= 1.6068616  res_train None\n",
      "Ietr 5  Testing Accuracy 0.9105   res_loss= 1.5911851  res_train None\n",
      "Ietr 6  Testing Accuracy 0.9122   res_loss= 1.5992754  res_train None\n",
      "Ietr 7  Testing Accuracy 0.9133   res_loss= 1.6184201  res_train None\n",
      "Ietr 8  Testing Accuracy 0.9138   res_loss= 1.5766654  res_train None\n",
      "Ietr 9  Testing Accuracy 0.9164   res_loss= 1.5598828  res_train None\n",
      "Ietr 10  Testing Accuracy 0.9178   res_loss= 1.5442863  res_train None\n",
      "Ietr 11  Testing Accuracy 0.9194   res_loss= 1.566681  res_train None\n",
      "Ietr 12  Testing Accuracy 0.9178   res_loss= 1.5741146  res_train None\n",
      "Ietr 13  Testing Accuracy 0.9194   res_loss= 1.5824434  res_train None\n",
      "Ietr 14  Testing Accuracy 0.9196   res_loss= 1.5538133  res_train None\n",
      "Ietr 15  Testing Accuracy 0.9198   res_loss= 1.6285653  res_train None\n",
      "Ietr 16  Testing Accuracy 0.9198   res_loss= 1.5552359  res_train None\n",
      "Ietr 17  Testing Accuracy 0.9216   res_loss= 1.5456237  res_train None\n",
      "Ietr 18  Testing Accuracy 0.9212   res_loss= 1.520419  res_train None\n",
      "Ietr 19  Testing Accuracy 0.921   res_loss= 1.5515931  res_train None\n"
     ]
    },
    {
     "data": {
      "image/png": "[encoded data removed]",
      "text/plain": [
       "<Figure size 432x288 with 1 Axes>"
      ]
     },
     "metadata": {
      "needs_background": "light"
     },
     "output_type": "display_data"
    },
    {
     "name": "stdout",
     "output_type": "stream",
     "text": [
      "(10000, 784)\n",
      "<class 'numpy.float32'>\n"
     ]
    }
   ],
   "source": [
    "# 创建会话\n",
    "with tf.Session() as sess:\n",
    "    sess.run(init_op)\n",
    "#     定义列表存储 loss\n",
    "#     迭代 21 个周期\n",
    "    loss_list = []\n",
    "    for epoch in range(epochs):\n",
    "#         执行批次数\n",
    "        for batch in range(n_batch):\n",
    "#         一个批次获取照片数 batch_size\n",
    "            train_x, train_y = mnist.train.next_batch(batch_size=batch_size)\n",
    "           \n",
    "#             res_loss 为 loss, res_train ?\n",
    "            res_loss, res_train = sess.run([loss, train], feed_dict={x: train_x, y: train_y})\n",
    "        \n",
    "#         计算网络 准确率\n",
    "        acc = sess.run(accuracy, feed_dict={x: mnist.test.images, y: mnist.test.labels})\n",
    "        \n",
    "#         将每一次迭代 loss 记录\n",
    "        loss_list.append(res_loss)\n",
    "        print('Ietr ' + str(epoch) + '  Testing Accuracy ' + str(acc), '  res_loss=', res_loss, ' res_train', res_train)\n",
    "        \n",
    "#   画出 loss-epoch 关系图\n",
    "    plt.figure()\n",
    "    plt.plot(list(range(epochs)), loss_list)\n",
    "    plt.show()\n",
    "        \n",
    "    print(mnist.test.images.shape)\n",
    "    print(type(acc))\n",
    "    "
   ]
  },
  {
   "cell_type": "code",
   "execution_count": null,
   "metadata": {},
   "outputs": [],
   "source": []
  },
  {
   "cell_type": "code",
   "execution_count": null,
   "metadata": {},
   "outputs": [],
   "source": []
  }
 ],
 "metadata": {
  "kernelspec": {
   "display_name": "Python 3",
   "language": "python",
   "name": "python3"
  },
  "language_info": {
   "codemirror_mode": {
    "name": "ipython",
    "version": 3
   },
   "file_extension": ".py",
   "mimetype": "text/x-python",
   "name": "python",
   "nbconvert_exporter": "python",
   "pygments_lexer": "ipython3",
   "version": "3.6.5"
  }
 },
 "nbformat": 4,
 "nbformat_minor": 4
}
