{
 "cells": [
  {
   "cell_type": "markdown",
   "metadata": {},
   "source": [
    "# softmax 函数"
   ]
  },
  {
   "cell_type": "markdown",
   "metadata": {},
   "source": [
    "### 介绍\n",
    "1. MNIST 数据集的结果为 [0, 9] 模型可能推测出一张图片数字是 9 的概率为 80%、是数字 8 的概率是 10%、然后其他数字的概率更小，但总体加起来等于 1， 这就是 softmax回归模型，softmax可以给不同的对象分配概率。"
   ]
  },
  {
   "cell_type": "markdown",
   "metadata": {},
   "source": [
    "### softmax 公式\n",
    "1. $softmax(x_i)=\\frac{exp(x_i)}{\\sum_{j}exp(x_j)}$"
   ]
  },
  {
   "cell_type": "markdown",
   "metadata": {},
   "source": [
    "### 比如输出结果为 [1, 3, 5]\n",
    "1. $e^1=2.718$ &nbsp; &nbsp; &nbsp; &nbsp; $p_1=\\frac{e^1}{e^1+e^3+e^5}=0.016$ <br> <br>\n",
    "2. $e^3=20.086$ &nbsp; &nbsp; &nbsp; &nbsp; $p_2=\\frac{e^3}{e^1+e^3+e^5}=0.117$ <br> <br>\n",
    "3. $e^1=148.413$ &nbsp; &nbsp; &nbsp; &nbsp; $p_3=\\frac{e^5}{e^1+e^3+e^5}=0.867$ <br> <br>\n",
    "4. $e^1+e^3+e^5=171.217$ <br> <br>\n",
    "5. $p_1+p_2+p_3=1$"
   ]
  },
  {
   "cell_type": "code",
   "execution_count": null,
   "metadata": {},
   "outputs": [],
   "source": []
  }
 ],
 "metadata": {
  "kernelspec": {
   "display_name": "Python 3",
   "language": "python",
   "name": "python3"
  },
  "language_info": {
   "codemirror_mode": {
    "name": "ipython",
    "version": 3
   },
   "file_extension": ".py",
   "mimetype": "text/x-python",
   "name": "python",
   "nbconvert_exporter": "python",
   "pygments_lexer": "ipython3",
   "version": "3.6.5"
  }
 },
 "nbformat": 4,
 "nbformat_minor": 4
}
