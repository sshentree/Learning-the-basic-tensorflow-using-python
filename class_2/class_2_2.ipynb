{
 "cells": [
  {
   "cell_type": "markdown",
   "metadata": {},
   "source": [
    "## mnist 数据集介绍\n",
    "### 训练样本\n",
    "说明：训练样本为 60000 张图片\n",
    "1. 图片\n",
    " - 每张图片包含 28 * 28 个像素，我们把这个数组展开一个向量，长度为 28 * 28 = 784.因此在 MNIST 训练数据集中 mnist.train.images 是一个 [60000, 784] 的一个张量，第一个维度用来索引图片，第二个图片用来索引图片的像素值(图片的像素强度介于(0, 1))\n",
    "2. 标签\n",
    " - MNIST 数据集的标签是介于(0, 9) 之间，我们要把标签转换为 'one-hot-vector'.一个 one-hot 向量除了米一个维度数据为 1,其他维度数据都为 0,比如标签 0 表示为 [1, 0, 0, 0, 0, 0, 0, 0, 0, 0]\n",
    " \n",
    "### 测试样本\n",
    "说明：测试样本为 10000 张图片\n",
    "1. 图片\n",
    " - 同上\n",
    "2. 标签\n",
    " - 同上"
   ]
  },
  {
   "cell_type": "code",
   "execution_count": null,
   "metadata": {},
   "outputs": [],
   "source": []
  }
 ],
 "metadata": {
  "kernelspec": {
   "display_name": "Python 3",
   "language": "python",
   "name": "python3"
  },
  "language_info": {
   "codemirror_mode": {
    "name": "ipython",
    "version": 3
   },
   "file_extension": ".py",
   "mimetype": "text/x-python",
   "name": "python",
   "nbconvert_exporter": "python",
   "pygments_lexer": "ipython3",
   "version": "3.6.5"
  }
 },
 "nbformat": 4,
 "nbformat_minor": 4
}
