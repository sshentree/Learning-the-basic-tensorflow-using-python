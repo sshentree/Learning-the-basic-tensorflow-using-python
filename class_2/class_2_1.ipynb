{
 "cells": [
  {
   "cell_type": "code",
   "execution_count": 1,
   "metadata": {},
   "outputs": [],
   "source": [
    "import tensorflow as tf\n",
    "import numpy as np\n",
    "import matplotlib.pyplot as plt"
   ]
  },
  {
   "cell_type": "code",
   "execution_count": 3,
   "metadata": {},
   "outputs": [],
   "source": [
    "# 创建 200 个随机数(numpy linspace(), 均匀在(-0.5, 0.5)之间分布)\n",
    "# 增加一个维度(ndarray[;, no.newaxis])\n",
    "# x_data.shape = (200, 1)\n",
    "x_data = np.linspace(start=-0.5, stop=0.5, num=200)[:, np.newaxis]\n",
    "# print(x_data.shape)\n",
    "# (200, 1)\n",
    "\n",
    "# 创建噪声,采用高斯分布(numpy)\n",
    "# noise.shape = x_data.shape\n",
    "noise = np.random.normal(loc=0, scale=0.02, size=(x_data.shape))\n",
    "\n",
    "# 创建 y_data 值,根据 x_data and noise\n",
    "# y_data.shape = (200, 1)\n",
    "y_data = np.square(x_data) + noise\n",
    "# print(y_data.shape)"
   ]
  },
  {
   "cell_type": "code",
   "execution_count": 4,
   "metadata": {},
   "outputs": [],
   "source": [
    "# 创建 2 个占位符\n",
    "# \n",
    "# 作为神经网络输入层\n",
    "x = tf.placeholder(dtype=tf.float32, shape=(None, 1))\n",
    "y = tf.placeholder(dtype=tf.float32, shape=(None, 1))"
   ]
  },
  {
   "cell_type": "code",
   "execution_count": 8,
   "metadata": {},
   "outputs": [],
   "source": [
    "# 创建神经网络(输入层\\中间层\\输出层)\n",
    "# \n",
    "# 创建中间层\n",
    "weight_L1 = tf.Variable(tf.random_normal(shape=(1, 10)))\n",
    "biase_L1 = tf.Variable(tf.zeros(shape=(1, 10)) + 0.1)\n",
    "wx_plus_b_L1 = tf.matmul(x, weight_L1) + biase_L1\n",
    "# \n",
    "# 激活函数使用 tanh（双曲正切函数）\n",
    "L1 = tf.nn.tanh(wx_plus_b_L1)\n",
    "\n",
    "# L1.shape = (None, 10)"
   ]
  },
  {
   "cell_type": "code",
   "execution_count": 5,
   "metadata": {},
   "outputs": [],
   "source": [
    "# 创建输出层\n",
    "weight_L2 = tf.Variable(tf.random_normal(shape=(10, 1)))\n",
    "biase_L2 = tf.Variable(tf.zeros(shape=(1, 1)))\n",
    "wx_plus_b_L2 = tf.matmul(L1, weight_L2) + biase_L2\n",
    "\n",
    "# 激活函数\n",
    "prediction = tf.nn.tanh(wx_plus_b_L2)"
   ]
  },
  {
   "cell_type": "code",
   "execution_count": 6,
   "metadata": {},
   "outputs": [],
   "source": [
    "# 训练阶段\n",
    "# \n",
    "# 创建损失函数\n",
    "# tf.reduce_mean() 求均值\n",
    "loss = tf.reduce_mean(tf.square(y - prediction))\n",
    "\n",
    "# 创建优化器(梯度下降),优化损失函数(使损失函数最小)\n",
    "# \n",
    "# learning_rate 参数需要手动设置\n",
    "# 最小化损失函数(loss)\n",
    "train = tf.train.GradientDescentOptimizer(learning_rate=0.1).minimize(loss)"
   ]
  },
  {
   "cell_type": "code",
   "execution_count": 7,
   "metadata": {},
   "outputs": [],
   "source": [
    "# 初始化图中变量\n",
    "init_op = tf.global_variables_initializer()"
   ]
  },
  {
   "cell_type": "code",
   "execution_count": 8,
   "metadata": {},
   "outputs": [],
   "source": [
    "# 创建会话\n",
    "with tf.Session() as sess:\n",
    "#     在会话中，初始化图中变量\n",
    "    sess.run(init_op)\n",
    "#     训练网络\n",
    "    for _ in range(2000):\n",
    "        sess.run(train, feed_dict={x: x_data, y: y_data})\n",
    "\n",
    "#     获取 预测值\n",
    "    prediction_value = sess.run(prediction, feed_dict={x: x_data})"
   ]
  },
  {
   "cell_type": "code",
   "execution_count": 9,
   "metadata": {},
   "outputs": [
    {
     "data": {
      "image/png": "[encoded data removed]",
      "text/plain": [
       "<Figure size 432x288 with 1 Axes>"
      ]
     },
     "metadata": {
      "needs_background": "light"
     },
     "output_type": "display_data"
    }
   ],
   "source": [
    "# 画图\n",
    "plt.figure()\n",
    "plt.scatter(x_data, y_data)\n",
    "plt.plot(x_data, prediction_value, 'r-', lw=5)\n",
    "plt.show()"
   ]
  },
  {
   "cell_type": "code",
   "execution_count": null,
   "metadata": {},
   "outputs": [],
   "source": []
  }
 ],
 "metadata": {
  "kernelspec": {
   "display_name": "Python 3",
   "language": "python",
   "name": "python3"
  },
  "language_info": {
   "codemirror_mode": {
    "name": "ipython",
    "version": 3
   },
   "file_extension": ".py",
   "mimetype": "text/x-python",
   "name": "python",
   "nbconvert_exporter": "python",
   "pygments_lexer": "ipython3",
   "version": "3.6.5"
  }
 },
 "nbformat": 4,
 "nbformat_minor": 4
}
