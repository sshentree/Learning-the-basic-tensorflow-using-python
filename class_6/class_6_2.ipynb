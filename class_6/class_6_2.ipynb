{
 "cells": [
  {
   "cell_type": "code",
   "execution_count": 1,
   "metadata": {},
   "outputs": [],
   "source": [
    "import tensorflow as tf\n",
    "from tensorflow.examples.tutorials.mnist import input_data"
   ]
  },
  {
   "cell_type": "code",
   "execution_count": 2,
   "metadata": {},
   "outputs": [
    {
     "name": "stdout",
     "output_type": "stream",
     "text": [
      "WARNING:tensorflow:From <ipython-input-2-30e405a8ee97>:2: read_data_sets (from tensorflow.contrib.learn.python.learn.datasets.mnist) is deprecated and will be removed in a future version.\n",
      "Instructions for updating:\n",
      "Please use alternatives such as official/mnist/dataset.py from tensorflow/models.\n",
      "WARNING:tensorflow:From h:\\compile\\python\\python36\\lib\\site-packages\\tensorflow\\contrib\\learn\\python\\learn\\datasets\\mnist.py:260: maybe_download (from tensorflow.contrib.learn.python.learn.datasets.base) is deprecated and will be removed in a future version.\n",
      "Instructions for updating:\n",
      "Please write your own downloading logic.\n",
      "WARNING:tensorflow:From h:\\compile\\python\\python36\\lib\\site-packages\\tensorflow\\contrib\\learn\\python\\learn\\datasets\\mnist.py:262: extract_images (from tensorflow.contrib.learn.python.learn.datasets.mnist) is deprecated and will be removed in a future version.\n",
      "Instructions for updating:\n",
      "Please use tf.data to implement this functionality.\n",
      "Extracting MNIST_data\\train-images-idx3-ubyte.gz\n",
      "WARNING:tensorflow:From h:\\compile\\python\\python36\\lib\\site-packages\\tensorflow\\contrib\\learn\\python\\learn\\datasets\\mnist.py:267: extract_labels (from tensorflow.contrib.learn.python.learn.datasets.mnist) is deprecated and will be removed in a future version.\n",
      "Instructions for updating:\n",
      "Please use tf.data to implement this functionality.\n",
      "Extracting MNIST_data\\train-labels-idx1-ubyte.gz\n",
      "WARNING:tensorflow:From h:\\compile\\python\\python36\\lib\\site-packages\\tensorflow\\contrib\\learn\\python\\learn\\datasets\\mnist.py:110: dense_to_one_hot (from tensorflow.contrib.learn.python.learn.datasets.mnist) is deprecated and will be removed in a future version.\n",
      "Instructions for updating:\n",
      "Please use tf.one_hot on tensors.\n",
      "Extracting MNIST_data\\t10k-images-idx3-ubyte.gz\n",
      "Extracting MNIST_data\\t10k-labels-idx1-ubyte.gz\n",
      "WARNING:tensorflow:From h:\\compile\\python\\python36\\lib\\site-packages\\tensorflow\\contrib\\learn\\python\\learn\\datasets\\mnist.py:290: DataSet.__init__ (from tensorflow.contrib.learn.python.learn.datasets.mnist) is deprecated and will be removed in a future version.\n",
      "Instructions for updating:\n",
      "Please use alternatives such as official/mnist/dataset.py from tensorflow/models.\n"
     ]
    }
   ],
   "source": [
    "# 载入数据\n",
    "mnist = input_data.read_data_sets('MNIST_data', one_hot=True)"
   ]
  },
  {
   "cell_type": "code",
   "execution_count": 3,
   "metadata": {},
   "outputs": [],
   "source": [
    "# 输入图像大小 (28 * 28)\n",
    "# \n",
    "# 一个 time_step 输入一行像素 28\n",
    "n_inputs = 28\n",
    "# 共 28 个时间步长\n",
    "max_time = 28\n",
    "\n",
    "# 隐藏单元\n",
    "# 实际是 LSTM 输出的结果维度 (100, 1)\n",
    "# 是将 (28, 1) 映射到 (100, 1)\n",
    "# 三个控制门的权重大小自动匹配\n",
    "lstm_size = 100\n",
    "\n",
    "# 10 分类问题\n",
    "n_class = 10\n",
    "\n",
    "# 每个批次样本大小\n",
    "batch_size = 100\n",
    "# 计算一共有多少批次\n",
    "n_batch = mnist.train.num_examples // batch_size"
   ]
  },
  {
   "cell_type": "code",
   "execution_count": 4,
   "metadata": {},
   "outputs": [],
   "source": [
    "# 初始化两个占位符\n",
    "# \n",
    "# 样本与标签\n",
    "x = tf.placeholder(dtype=tf.float32)\n",
    "y = tf.placeholder(dtype=tf.float32)\n",
    "\n",
    "# 初始化权重和偏置\n",
    "# \n",
    "# LSTM 只初始化一次权重和偏置，是在 LSTM 输出的数据 (100, 1)，进行计算的\n",
    "weights = tf.Variable(initial_value=tf.truncated_normal(shape=(lstm_size, n_class), stddev=0.1))\n",
    "biases = tf.Variable(initial_value=tf.constant(value=0.1, shape=(1, n_class)))"
   ]
  },
  {
   "cell_type": "code",
   "execution_count": 5,
   "metadata": {},
   "outputs": [],
   "source": [
    "# 定义 RNN 网络\n",
    "def RNN(X, weights, biases):\n",
    "    '''\n",
    "    x 为样本\n",
    "    weight 为权重\n",
    "    biases 为偏置\n",
    "    '''\n",
    "    # 输入数据 inputs=[batch_size, max_time, n_inputs]\n",
    "    inputs = tf.reshape(tensor=X, shape=(-1, max_time, n_inputs))\n",
    "    \n",
    "    # 定义 LSTM 的 cell\n",
    "    lstm_cell_1 = tf.nn.rnn_cell.BasicLSTMCell(num_units=lstm_size)\n",
    "    \n",
    "    # final_state[0] batch_size 的 100\n",
    "    # final_state[1] cell_final_state 就是 LSTM 输入 (28, 1) 对应的 (100, 1) 的 100\n",
    "    #\n",
    "    # output shape\n",
    "    # If time_major == False (default), this will be a `Tensor` shaped:\n",
    "    # `[batch_size, max_time, cell.output_size]`.\n",
    "    # If time_major == True, this will be a `Tensor` shaped:\n",
    "    # `[max_time, batch_size, cell.output_size]`.\n",
    "    outputs, final_state = tf.nn.dynamic_rnn(cell=lstm_cell_1, inputs=inputs, dtype=tf.float32)\n",
    "    \n",
    "    # 最后 LSTM 的输出\n",
    "    return tf.nn.softmax(logits=tf.matmul(a=final_state[1], b=weights) + biases)\n",
    "    "
   ]
  },
  {
   "cell_type": "code",
   "execution_count": 6,
   "metadata": {},
   "outputs": [
    {
     "name": "stdout",
     "output_type": "stream",
     "text": [
      "WARNING:tensorflow:From <ipython-input-6-1e13f24766c1>:4: softmax_cross_entropy_with_logits (from tensorflow.python.ops.nn_ops) is deprecated and will be removed in a future version.\n",
      "Instructions for updating:\n",
      "\n",
      "Future major versions of TensorFlow will allow gradients to flow\n",
      "into the labels input on backprop by default.\n",
      "\n",
      "See @{tf.nn.softmax_cross_entropy_with_logits_v2}.\n",
      "\n"
     ]
    }
   ],
   "source": [
    "prediction = RNN(x, weights, biases)\n",
    "\n",
    "# 定义损失函数，使用交叉熵\n",
    "cross_entropy = tf.reduce_mean(tf.nn.softmax_cross_entropy_with_logits(labels=y, logits=prediction))\n",
    "\n",
    "# 定义优化器，使用 Adam\n",
    "train = tf.train.AdamOptimizer().minimize(loss=cross_entropy)\n",
    "\n",
    "# 将结果存放在 bool 列表中\n",
    "# \n",
    "correct_prediction = tf.equal(x=tf.argmax(input=y, axis=1), y=tf.argmax(input=prediction, axis=1))\n",
    "\n",
    "# 计算准确率\n",
    "accuracy = tf.reduce_mean(tf.cast(x=correct_prediction, dtype=tf.float32))"
   ]
  },
  {
   "cell_type": "code",
   "execution_count": 7,
   "metadata": {},
   "outputs": [],
   "source": [
    "# 初始化变量\n",
    "init_op = tf.global_variables_initializer()\n",
    "epochs = 20"
   ]
  },
  {
   "cell_type": "code",
   "execution_count": 8,
   "metadata": {},
   "outputs": [
    {
     "name": "stdout",
     "output_type": "stream",
     "text": [
      "Epoch=0   loss=1.57833  accuracy=0.9058\n",
      "Epoch=1   loss=1.518984  accuracy=0.9419\n",
      "Epoch=2   loss=1.5127153  accuracy=0.9533\n",
      "Epoch=3   loss=1.5098492  accuracy=0.9628\n",
      "Epoch=4   loss=1.499671  accuracy=0.9643\n",
      "Epoch=5   loss=1.4946195  accuracy=0.968\n",
      "Epoch=6   loss=1.5146761  accuracy=0.9726\n",
      "Epoch=7   loss=1.5167738  accuracy=0.9704\n",
      "Epoch=8   loss=1.4717697  accuracy=0.972\n",
      "Epoch=9   loss=1.4712433  accuracy=0.9728\n",
      "Epoch=10   loss=1.4891545  accuracy=0.9791\n",
      "Epoch=11   loss=1.4711635  accuracy=0.9811\n",
      "Epoch=12   loss=1.4943824  accuracy=0.9767\n",
      "Epoch=13   loss=1.4690368  accuracy=0.9812\n",
      "Epoch=14   loss=1.4757507  accuracy=0.981\n",
      "Epoch=15   loss=1.4950247  accuracy=0.9785\n",
      "Epoch=16   loss=1.4620818  accuracy=0.9838\n",
      "Epoch=17   loss=1.4620258  accuracy=0.9809\n",
      "Epoch=18   loss=1.5065184  accuracy=0.9778\n",
      "Epoch=19   loss=1.471343  accuracy=0.983\n"
     ]
    }
   ],
   "source": [
    "# 计算图\n",
    "# \n",
    "with tf.Session() as sess:\n",
    "    sess.run(init_op)\n",
    "    for epoch in range(epochs):\n",
    "        for _ in range(n_batch):\n",
    "            x_data, y_data = mnist.train.next_batch(batch_size=batch_size)\n",
    "            loss, _ = sess.run(fetches=[cross_entropy, train], feed_dict={x: x_data, y: y_data})\n",
    "            \n",
    "        acc = sess.run(accuracy, feed_dict={x: mnist.test.images, y: mnist.test.labels})\n",
    "        \n",
    "#         打印\n",
    "        print('Epoch=' + str(epoch), '  loss=' + str(loss), ' accuracy=' + str(acc))"
   ]
  },
  {
   "cell_type": "code",
   "execution_count": null,
   "metadata": {},
   "outputs": [],
   "source": []
  }
 ],
 "metadata": {
  "kernelspec": {
   "display_name": "Python 3",
   "language": "python",
   "name": "python3"
  },
  "language_info": {
   "codemirror_mode": {
    "name": "ipython",
    "version": 3
   },
   "file_extension": ".py",
   "mimetype": "text/x-python",
   "name": "python",
   "nbconvert_exporter": "python",
   "pygments_lexer": "ipython3",
   "version": "3.6.5"
  }
 },
 "nbformat": 4,
 "nbformat_minor": 4
}
