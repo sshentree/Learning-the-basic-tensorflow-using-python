{
 "cells": [
  {
   "cell_type": "code",
   "execution_count": 1,
   "metadata": {},
   "outputs": [],
   "source": [
    "import tensorflow as tf"
   ]
  },
  {
   "cell_type": "code",
   "execution_count": 2,
   "metadata": {},
   "outputs": [],
   "source": [
    "# 创建一个变量\n",
    "var_1 = tf.Variable([1, 2])\n",
    "# 创建一个常量\n",
    "con_1 = tf.constant([1, 1])\n",
    "\n",
    "# 创建一个减法 op（节点）\n",
    "sub_value = tf.subtract(var_1, con_1)\n",
    "\n",
    "# 创建一个加法 op\n",
    "add_value = tf.add(var_1, con_1)"
   ]
  },
  {
   "cell_type": "code",
   "execution_count": 3,
   "metadata": {},
   "outputs": [],
   "source": [
    "# 初始化图中变量\n",
    "init_op = tf.global_variables_initializer()"
   ]
  },
  {
   "cell_type": "code",
   "execution_count": 4,
   "metadata": {},
   "outputs": [
    {
     "name": "stdout",
     "output_type": "stream",
     "text": [
      "[0 1]\n",
      "[2 3]\n",
      "******************************\n",
      "[1 2]\n",
      "[1 1]\n"
     ]
    }
   ],
   "source": [
    "with tf.Session() as sess:\n",
    "#     首先执行初始化\n",
    "    sess.run(init_op)\n",
    "    print(sess.run(sub_value))\n",
    "    print(sess.run(add_value))\n",
    "    print('*' * 30)\n",
    "    print(sess.run(var_1))\n",
    "    print(sess.run(con_1))"
   ]
  },
  {
   "cell_type": "code",
   "execution_count": null,
   "metadata": {},
   "outputs": [],
   "source": []
  }
 ],
 "metadata": {
  "kernelspec": {
   "display_name": "Python 3",
   "language": "python",
   "name": "python3"
  },
  "language_info": {
   "codemirror_mode": {
    "name": "ipython",
    "version": 3
   },
   "file_extension": ".py",
   "mimetype": "text/x-python",
   "name": "python",
   "nbconvert_exporter": "python",
   "pygments_lexer": "ipython3",
   "version": "3.6.5"
  }
 },
 "nbformat": 4,
 "nbformat_minor": 4
}
