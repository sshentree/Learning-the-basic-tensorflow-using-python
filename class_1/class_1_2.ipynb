{
 "cells": [
  {
   "cell_type": "code",
   "execution_count": 1,
   "metadata": {},
   "outputs": [],
   "source": [
    "import tensorflow as tf"
   ]
  },
  {
   "cell_type": "code",
   "execution_count": 2,
   "metadata": {},
   "outputs": [],
   "source": [
    "# 创建一个变量。初始化为标量 0\n",
    "state = tf.Variable(0,name='counter')\n",
    "\n",
    "# 创建一个常量，起作用使 state 自增 1\n",
    "one = tf.constant(1)\n",
    "\n",
    "# 将 state 和 one 相加\n",
    "new_value = tf.add(state, one)\n",
    "\n",
    "# tf 的赋值操作不能使用‘=’，使用方法 tf.assign(args_1, args_2),args_2 的值赋值给 args_1\n",
    "updata = tf.assign(state, new_value)"
   ]
  },
  {
   "cell_type": "code",
   "execution_count": 3,
   "metadata": {},
   "outputs": [],
   "source": [
    "# 初始化变量\n",
    "# 增加一个 init_op 到图中\n",
    "# \n",
    "# 理解：就像C\\C++ 一样，变量使用前，要进行 声明 操作\n",
    "init_op = tf.global_variables_initializer()"
   ]
  },
  {
   "cell_type": "code",
   "execution_count": 6,
   "metadata": {},
   "outputs": [
    {
     "name": "stdout",
     "output_type": "stream",
     "text": [
      "初始化： 0\n",
      "1\n",
      "2\n",
      "3\n"
     ]
    }
   ],
   "source": [
    "# 启动会话\n",
    "# 运行图中节点的运算\n",
    "with tf.Session() as sess:\n",
    "#     首先，运行初始化 节点\n",
    "    sess.run(init_op)\n",
    "    print('初始化：', sess.run(state))\n",
    "    for _ in range(3):\n",
    "        sess.run(updata)\n",
    "        print(sess.run(state))\n",
    "        \n",
    "# 总结：图中的每一个节点的初始化，运算操作，都需要在会话中使用 sess.run() 才可执行"
   ]
  },
  {
   "cell_type": "code",
   "execution_count": null,
   "metadata": {},
   "outputs": [],
   "source": []
  }
 ],
 "metadata": {
  "kernelspec": {
   "display_name": "Python 3",
   "language": "python",
   "name": "python3"
  },
  "language_info": {
   "codemirror_mode": {
    "name": "ipython",
    "version": 3
   },
   "file_extension": ".py",
   "mimetype": "text/x-python",
   "name": "python",
   "nbconvert_exporter": "python",
   "pygments_lexer": "ipython3",
   "version": "3.6.5"
  }
 },
 "nbformat": 4,
 "nbformat_minor": 4
}
