{
 "cells": [
  {
   "cell_type": "code",
   "execution_count": 1,
   "metadata": {},
   "outputs": [],
   "source": [
    "import tensorflow as tf"
   ]
  },
  {
   "cell_type": "code",
   "execution_count": 2,
   "metadata": {},
   "outputs": [],
   "source": [
    "# 创建 3 个常量\n",
    "input_1 = tf.constant(3.0)\n",
    "input_2 = tf.constant(4.0)\n",
    "input_3 = tf.constant(5.0)\n",
    "\n",
    "# 增加一个加法 op\n",
    "intermed = tf.add(input_1, input_2)\n",
    "\n",
    "# 增加一个乘法 op\n",
    "mul = tf.multiply(input_3, intermed)"
   ]
  },
  {
   "cell_type": "code",
   "execution_count": 4,
   "metadata": {},
   "outputs": [
    {
     "name": "stdout",
     "output_type": "stream",
     "text": [
      "<class 'list'>\n",
      "[35.0, 7.0]\n"
     ]
    }
   ],
   "source": [
    "# 创建会话\n",
    "with tf.Session() as sess:\n",
    "#     fetch思想，可以一次取回多个 tensor\n",
    "    result = sess.run(fetches=[mul, intermed])\n",
    "    print(type(result))\n",
    "    print(result)"
   ]
  },
  {
   "cell_type": "code",
   "execution_count": null,
   "metadata": {},
   "outputs": [],
   "source": []
  }
 ],
 "metadata": {
  "kernelspec": {
   "display_name": "Python 3",
   "language": "python",
   "name": "python3"
  },
  "language_info": {
   "codemirror_mode": {
    "name": "ipython",
    "version": 3
   },
   "file_extension": ".py",
   "mimetype": "text/x-python",
   "name": "python",
   "nbconvert_exporter": "python",
   "pygments_lexer": "ipython3",
   "version": "3.6.5"
  }
 },
 "nbformat": 4,
 "nbformat_minor": 4
}
