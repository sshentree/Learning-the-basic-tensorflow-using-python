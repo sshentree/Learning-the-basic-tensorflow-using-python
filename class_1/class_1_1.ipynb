{
 "cells": [
  {
   "cell_type": "code",
   "execution_count": 1,
   "metadata": {},
   "outputs": [],
   "source": [
    "import tensorflow as tf"
   ]
  },
  {
   "cell_type": "code",
   "execution_count": 2,
   "metadata": {},
   "outputs": [
    {
     "name": "stdout",
     "output_type": "stream",
     "text": [
      "Tensor(\"Const:0\", shape=(1, 2), dtype=int32)\n",
      "Tensor(\"Const_1:0\", shape=(2, 1), dtype=int32)\n"
     ]
    }
   ],
   "source": [
    "# tensorflow python 库有一个默认图（default graph）\n",
    "\n",
    "# 创建一个常量 op（就是一个 tensor），这个 op 被作为一个节点\n",
    "# 添加到默认图中\n",
    "# \n",
    "# 构造器的返回值代表该常量 op 的返回值\n",
    "m_1 = tf.constant([[1, 3]])\n",
    "m_2 = tf.constant([[1], [3]])\n",
    "\n",
    "# 打印常量 op（实际就是一个 tensor）\n",
    "print(m_1)\n",
    "print(m_2)"
   ]
  },
  {
   "cell_type": "code",
   "execution_count": 3,
   "metadata": {},
   "outputs": [
    {
     "name": "stdout",
     "output_type": "stream",
     "text": [
      "Tensor(\"MatMul:0\", shape=(1, 1), dtype=int32)\n"
     ]
    }
   ],
   "source": [
    "# 创建一个矩阵乘法 matmul op（opration），将 m_1和 m_2 作为输入\n",
    "product = tf.matmul(m_1, m_2)\n",
    "print(product)"
   ]
  },
  {
   "cell_type": "code",
   "execution_count": 4,
   "metadata": {},
   "outputs": [
    {
     "name": "stdout",
     "output_type": "stream",
     "text": [
      "[[10]]\n"
     ]
    }
   ],
   "source": [
    "# 默认图现在有三个节点\n",
    "# 两个 constant() op 和 一个 matmul() op \n",
    "# 为了真正进行矩阵相乘运算，并得到矩阵乘法的结果，必须在会话里启动这个 默认图\n",
    "# \n",
    "# 构造完成，启动图\n",
    "# \n",
    "# 启动图的第一步：创建一个 Session 对象 会话\n",
    "# 如没有其他参数，将启动默认图\n",
    "# \n",
    "# 启动默认图\n",
    "sess = tf.Session()\n",
    "\n",
    "# 调用函数run(product) 触发图中 3 个节点 op（两个常量 op，一个矩阵乘法 op）的执行\n",
    "result = sess.run(product)\n",
    "# 返回 result 是一个 numpy 的 ndarray对象\n",
    "print(result)\n",
    "# 任务完成，关闭会话\n",
    "sess.close()"
   ]
  },
  {
   "cell_type": "code",
   "execution_count": 5,
   "metadata": {},
   "outputs": [
    {
     "name": "stdout",
     "output_type": "stream",
     "text": [
      "[[10]]\n",
      "[array([[10]])]\n"
     ]
    }
   ],
   "source": [
    "# 简化上面创建会话，关闭会话的流程\n",
    "with tf.Session() as sess:\n",
    "#     两种执行的参数传递不同，导致输出结果也不同\n",
    "    result_1 = sess.run(product)\n",
    "    result_2 = sess.run([product])\n",
    "print(result_1)\n",
    "print(result_2)"
   ]
  },
  {
   "cell_type": "code",
   "execution_count": null,
   "metadata": {},
   "outputs": [],
   "source": []
  }
 ],
 "metadata": {
  "kernelspec": {
   "display_name": "Python 3",
   "language": "python",
   "name": "python3"
  },
  "language_info": {
   "codemirror_mode": {
    "name": "ipython",
    "version": 3
   },
   "file_extension": ".py",
   "mimetype": "text/x-python",
   "name": "python",
   "nbconvert_exporter": "python",
   "pygments_lexer": "ipython3",
   "version": "3.6.5"
  }
 },
 "nbformat": 4,
 "nbformat_minor": 4
}
