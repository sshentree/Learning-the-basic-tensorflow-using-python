{
 "cells": [
  {
   "cell_type": "code",
   "execution_count": 1,
   "metadata": {},
   "outputs": [],
   "source": [
    "import os\n",
    "\n",
    "import requests\n",
    "import tarfile\n",
    "import tensorflow as tf"
   ]
  },
  {
   "cell_type": "code",
   "execution_count": 2,
   "metadata": {},
   "outputs": [],
   "source": [
    "# Inception 模型 URL（地址）\n",
    "inception_pretrain_model_url = 'http://download.tensorflow.org/models/image/imagenet/inception-2015-12-05.tgz'\n",
    "\n",
    "# 模型存放地址\n",
    "# 文件件不存在，创建文件夹\n",
    "inception_pretrain_model_dir = 'inception_model'\n",
    "if not os.path.exists(path=inception_pretrain_model_dir):\n",
    "    os.mkdir(inception_pretrain_model_dir)\n",
    "\n",
    "# 获取文件名，及路径\n",
    "filename = inception_pretrain_model_url.split('/')[-1]\n",
    "filepath = os.path.join(inception_pretrain_model_dir + '/', filename) # 需要加一个 ’/‘\n",
    "# print(filepath)"
   ]
  },
  {
   "cell_type": "code",
   "execution_count": 3,
   "metadata": {},
   "outputs": [
    {
     "name": "stdout",
     "output_type": "stream",
     "text": [
      "finsih:  inception-2015-12-05.tgz\n"
     ]
    }
   ],
   "source": [
    "# 下载模型\n",
    "if not os.path.exists(filepath):\n",
    "    print('downing: ', filename)\n",
    "    \n",
    "    # 当下载文件过大时，采用分块读取的方式\n",
    "    #\n",
    "    # 发送 get 响应文件只有 header，没有 body\n",
    "    r = requests.get(url=inception_pretrain_model_url, stream=True) # 参数 stream=True 表示分块下载\n",
    "    with open(file=filepath, mode='wb') as f:\n",
    "        for chunk in r.iter_content(chunk_size=512): # 每次下载 512 个字节\n",
    "            if chunk:\n",
    "                f.write(chunk)\n",
    "print('finsih: ', filename)"
   ]
  },
  {
   "cell_type": "code",
   "execution_count": 4,
   "metadata": {},
   "outputs": [],
   "source": [
    "tar = tarfile.open(name=filepath, mode='r:gz')\n",
    "tar.extractall(path=inception_pretrain_model_dir)"
   ]
  },
  {
   "cell_type": "code",
   "execution_count": 5,
   "metadata": {},
   "outputs": [],
   "source": [
    "# 模型结构存放文件\n",
    "log_dir = 'inception_log'\n",
    "if not os.path.exists(log_dir):\n",
    "    os.mkdir(log_dir)\n",
    "    \n",
    "# classify_image_graph_def.pb 为 Goolge 训练好的模型\n",
    "inception_graph_def_file = os.path.join(inception_pretrain_model_dir + '/', 'classify_image_graph_def.pb')\n",
    "\n",
    "with tf.Session() as sess:\n",
    "    # 创建一个图来来保存训练好的模型\n",
    "    #\n",
    "    # 将 GoogleNet 的图结构文件，以二进制编码格式打开\n",
    "    with tf.gfile.FastGFile(name=inception_graph_def_file, mode='rb') as f:\n",
    "        # 初始化图的连接信息\n",
    "        graph_def = tf.GraphDef()\n",
    "        # 得到 GoogelNet 的图信息\n",
    "        graph_def.ParseFromString(f.read())\n",
    "        #将 GoogelNet 的图信息导入当前图中\n",
    "        tf.import_graph_def(graph_def=graph_def)\n",
    "    # 保存图结构\n",
    "    writer = tf.summary.FileWriter(logdir=log_dir, graph=tf.get_default_graph())\n",
    "    writer.close()"
   ]
  },
  {
   "cell_type": "code",
   "execution_count": null,
   "metadata": {},
   "outputs": [],
   "source": []
  }
 ],
 "metadata": {
  "kernelspec": {
   "display_name": "Python 3",
   "language": "python",
   "name": "python3"
  },
  "language_info": {
   "codemirror_mode": {
    "name": "ipython",
    "version": 3
   },
   "file_extension": ".py",
   "mimetype": "text/x-python",
   "name": "python",
   "nbconvert_exporter": "python",
   "pygments_lexer": "ipython3",
   "version": "3.6.5"
  }
 },
 "nbformat": 4,
 "nbformat_minor": 4
}
